{
 "cells": [
  {
   "cell_type": "markdown",
   "id": "729ecbaf-f06d-4d4c-b879-fe23e9017c9a",
   "metadata": {},
   "source": [
    "# Chapter Three: Julia Basics"
   ]
  },
  {
   "cell_type": "markdown",
   "id": "0a8b3104-741d-422f-b0bf-d647d6a2a4a0",
   "metadata": {},
   "source": [
    "Note that I am skipping Chapters One and Two because there isn't much code in those chapters. I suggest reading them for completeness though. "
   ]
  },
  {
   "cell_type": "markdown",
   "id": "54798208-7cf7-41bf-b129-380dc80270b7",
   "metadata": {},
   "source": [
    "### Instantiate a Project"
   ]
  },
  {
   "cell_type": "markdown",
   "id": "2f41962f-d250-488d-9b90-b1ca6d084a16",
   "metadata": {},
   "source": [
    "If you are like me and want to work with a Julia project, start it up. See the `Readme.md` file in this repo for how to create a project. We will be adding to this project as we go through these notebooks and all add-on packages will be stored here. Within each notebook, you have to load `Pkg` and activate the specific project that we are using. This keeps track of all of our installed packages for this project. This first chapter really only uses standard packages (I think), so it's not terribly important. I'll keep it here nevertheless. Here you go. "
   ]
  },
  {
   "cell_type": "code",
   "execution_count": 1,
   "id": "48537ce8-685b-499b-930e-c7f9d02c3950",
   "metadata": {},
   "outputs": [
    {
     "name": "stderr",
     "output_type": "stream",
     "text": [
      "\u001b[32m\u001b[1m  Activating\u001b[22m\u001b[39m project at `~/research/JuliaDataScience/notebooks/juliadatascience`\n"
     ]
    }
   ],
   "source": [
    "using Pkg\n",
    "Pkg.activate(\"juliadatascience\")"
   ]
  },
  {
   "cell_type": "markdown",
   "id": "7edefb8c-02d5-49c6-b298-12d191b1614d",
   "metadata": {},
   "source": [
    "### 3.1 Development Environments"
   ]
  },
  {
   "cell_type": "code",
   "execution_count": 3,
   "id": "98ea0010-1f1f-4d21-aa2e-bbb35994be01",
   "metadata": {
    "tags": []
   },
   "outputs": [
    {
     "data": {
      "text/plain": [
       "2"
      ]
     },
     "execution_count": 3,
     "metadata": {},
     "output_type": "execute_result"
    }
   ],
   "source": [
    "x = 2"
   ]
  },
  {
   "cell_type": "code",
   "execution_count": 4,
   "id": "02fc9482-26a8-47a4-85f9-cc39e88c1903",
   "metadata": {},
   "outputs": [
    {
     "data": {
      "text/plain": [
       "3"
      ]
     },
     "execution_count": 4,
     "metadata": {},
     "output_type": "execute_result"
    }
   ],
   "source": [
    "x + 1"
   ]
  },
  {
   "cell_type": "markdown",
   "id": "a291ea89-be54-4a97-8c6c-51319c6ac96c",
   "metadata": {},
   "source": [
    "We created a file named `script.jl` with the following code. "
   ]
  },
  {
   "cell_type": "markdown",
   "id": "b249b197-e089-4284-b8e1-bdde837af821",
   "metadata": {},
   "source": [
    "```\n",
    "x = 3\n",
    "y = 4\n",
    "```"
   ]
  },
  {
   "cell_type": "markdown",
   "id": "58eacf0b-0127-4679-800d-034856b028dc",
   "metadata": {},
   "source": [
    "We can use the `include` statement to execute the code in this file, i.e. load the file into Julia. "
   ]
  },
  {
   "cell_type": "code",
   "execution_count": 6,
   "id": "7d444f3a-baed-4217-a685-91de4ea41ed0",
   "metadata": {},
   "outputs": [
    {
     "data": {
      "text/plain": [
       "4"
      ]
     },
     "execution_count": 6,
     "metadata": {},
     "output_type": "execute_result"
    }
   ],
   "source": [
    "include(\"script.jl\")"
   ]
  },
  {
   "cell_type": "code",
   "execution_count": 7,
   "id": "e5aafa38-0f23-4d30-b40a-956539c83edb",
   "metadata": {},
   "outputs": [
    {
     "data": {
      "text/plain": [
       "3"
      ]
     },
     "execution_count": 7,
     "metadata": {},
     "output_type": "execute_result"
    }
   ],
   "source": [
    "x"
   ]
  },
  {
   "cell_type": "code",
   "execution_count": 8,
   "id": "d78f5a7b-954c-484e-854e-6646fd6a079d",
   "metadata": {},
   "outputs": [
    {
     "data": {
      "text/plain": [
       "4"
      ]
     },
     "execution_count": 8,
     "metadata": {},
     "output_type": "execute_result"
    }
   ],
   "source": [
    "y"
   ]
  },
  {
   "cell_type": "markdown",
   "id": "cde8bc4b-2e68-45e2-b6bd-dc9d77c45846",
   "metadata": {},
   "source": [
    "### 3.2 Language Syntax"
   ]
  },
  {
   "cell_type": "markdown",
   "id": "de76a563-3bd3-4a86-9031-d6f586f98ccf",
   "metadata": {},
   "source": [
    "#### 3.2.1 Variables"
   ]
  },
  {
   "cell_type": "code",
   "execution_count": 10,
   "id": "4afaee14-9cd3-4ef7-9292-2435c80bb1b1",
   "metadata": {},
   "outputs": [
    {
     "data": {
      "text/plain": [
       "9"
      ]
     },
     "execution_count": 10,
     "metadata": {},
     "output_type": "execute_result"
    }
   ],
   "source": [
    "name = \"Julia\"\n",
    "age = 9"
   ]
  },
  {
   "cell_type": "code",
   "execution_count": 11,
   "id": "fba688a2-fd10-4783-8f51-843efd6df4f7",
   "metadata": {},
   "outputs": [
    {
     "data": {
      "text/plain": [
       "\"Julia\""
      ]
     },
     "execution_count": 11,
     "metadata": {},
     "output_type": "execute_result"
    }
   ],
   "source": [
    "name"
   ]
  },
  {
   "cell_type": "code",
   "execution_count": 12,
   "id": "c5bca4fb-c1ab-483e-9317-dce01da90f37",
   "metadata": {},
   "outputs": [
    {
     "data": {
      "text/plain": [
       "10"
      ]
     },
     "execution_count": 12,
     "metadata": {},
     "output_type": "execute_result"
    }
   ],
   "source": [
    "age = 10"
   ]
  },
  {
   "cell_type": "code",
   "execution_count": 13,
   "id": "6997b093-7072-47ef-8de9-480761a1c349",
   "metadata": {},
   "outputs": [
    {
     "data": {
      "text/plain": [
       "\"Julia Rapidus\""
      ]
     },
     "execution_count": 13,
     "metadata": {},
     "output_type": "execute_result"
    }
   ],
   "source": [
    "name = \"Julia Rapidus\""
   ]
  },
  {
   "cell_type": "code",
   "execution_count": 14,
   "id": "f26df0a5-1508-42af-bc7b-345ad3f9c636",
   "metadata": {},
   "outputs": [
    {
     "data": {
      "text/plain": [
       "120"
      ]
     },
     "execution_count": 14,
     "metadata": {},
     "output_type": "execute_result"
    }
   ],
   "source": [
    "12 * age"
   ]
  },
  {
   "cell_type": "code",
   "execution_count": 15,
   "id": "037ad939-b445-44b9-af99-4e9fa741d586",
   "metadata": {},
   "outputs": [
    {
     "data": {
      "text/plain": [
       "Int64"
      ]
     },
     "execution_count": 15,
     "metadata": {},
     "output_type": "execute_result"
    }
   ],
   "source": [
    "typeof(age)"
   ]
  },
  {
   "cell_type": "markdown",
   "id": "1ecde459-61f9-4d00-a7b6-297f7fbcc9a5",
   "metadata": {},
   "source": [
    "Note that by default both integers and real numbers are stored using 64 bits. You can define more or less bits if needed. "
   ]
  },
  {
   "cell_type": "markdown",
   "id": "8b59c1ec-87fe-4615-bafc-f400bf3b0f76",
   "metadata": {},
   "source": [
    "This next command is super useful. I always forget in python what functions or methods can actually be applied to variables objects. The authors of the book describe this operation for integers as “What else can I do with integers?” In general, if you have an object, just replace whatever object with integer in the next code chunk. The `first` function will restrict the output to the first five elements in the vector."
   ]
  },
  {
   "cell_type": "code",
   "execution_count": 16,
   "id": "b92183a3-0dc5-4f5d-a843-732307110a56",
   "metadata": {},
   "outputs": [
    {
     "data": {
      "text/html": [
       "5-element Vector{Method}:<ul><li> AbstractFloat(x::<b>Int64</b>) in Base at <a href=\"https://github.com/JuliaLang/julia/tree/00177ebc4fcadaaa37c4c2cbca2f9db75ba4d8e3/base/float.jl#L243\" target=\"_blank\">float.jl:243</a><li> Float16(x::<b>Int64</b>) in Base at <a href=\"https://github.com/JuliaLang/julia/tree/00177ebc4fcadaaa37c4c2cbca2f9db75ba4d8e3/base/float.jl#L146\" target=\"_blank\">float.jl:146</a><li> Float32(x::<b>Int64</b>) in Base at <a href=\"https://github.com/JuliaLang/julia/tree/00177ebc4fcadaaa37c4c2cbca2f9db75ba4d8e3/base/float.jl#L146\" target=\"_blank\">float.jl:146</a><li> Float64(x::<b>Int64</b>) in Base at <a href=\"https://github.com/JuliaLang/julia/tree/00177ebc4fcadaaa37c4c2cbca2f9db75ba4d8e3/base/float.jl#L146\" target=\"_blank\">float.jl:146</a><li> Int64(x::<b>Union{Bool, Int32, Int64, UInt32, UInt64, UInt8, Int128, Int16, Int8, UInt128, UInt16}</b>) in Core at <a href=\"file:///Applications/Julia-1.8.app/Contents/Resources/julia/share/julia/base/boot.jl\" target=\"_blank\">boot.jl:764</a></ul>"
      ],
      "text/plain": [
       "[1] AbstractFloat(x::Int64) in Base at float.jl:243\n",
       "[2] Float16(x::Int64) in Base at float.jl:146\n",
       "[3] Float32(x::Int64) in Base at float.jl:146\n",
       "[4] Float64(x::Int64) in Base at float.jl:146\n",
       "[5] Int64(x::Union{Bool, Int32, Int64, UInt32, UInt64, UInt8, Int128, Int16, Int8, UInt128, UInt16}) in Core at boot.jl:764"
      ]
     },
     "execution_count": 16,
     "metadata": {},
     "output_type": "execute_result"
    }
   ],
   "source": [
    "first(methodswith(Int64), 5)"
   ]
  },
  {
   "cell_type": "markdown",
   "id": "1bb0f59a-452b-4c40-905f-d554a662770d",
   "metadata": {},
   "source": [
    "#### 3.2.2 User-Defined Types"
   ]
  },
  {
   "cell_type": "markdown",
   "id": "7aa223ba-e983-4398-becf-2489a2a1b2d4",
   "metadata": {},
   "source": [
    "In Julia, you can create your own user-defined data type called a `struct`. "
   ]
  },
  {
   "cell_type": "code",
   "execution_count": null,
   "id": "1d1198c4-f9b4-4372-bdd6-f5b56bd7fa0f",
   "metadata": {},
   "outputs": [],
   "source": []
  }
 ],
 "metadata": {
  "kernelspec": {
   "display_name": "Julia 1.8.4",
   "language": "julia",
   "name": "julia-1.8"
  },
  "language_info": {
   "file_extension": ".jl",
   "mimetype": "application/julia",
   "name": "julia",
   "version": "1.8.4"
  }
 },
 "nbformat": 4,
 "nbformat_minor": 5
}
