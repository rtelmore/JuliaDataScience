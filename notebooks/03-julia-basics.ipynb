{
 "cells": [
  {
   "cell_type": "markdown",
   "id": "729ecbaf-f06d-4d4c-b879-fe23e9017c9a",
   "metadata": {},
   "source": [
    "# Chapter Three: Julia Basics"
   ]
  },
  {
   "cell_type": "markdown",
   "id": "0a8b3104-741d-422f-b0bf-d647d6a2a4a0",
   "metadata": {},
   "source": [
    "Note that I am skipping Chapters One and Two because there isn't much code in those chapters. I suggest reading them for completeness though. "
   ]
  },
  {
   "cell_type": "markdown",
   "id": "54798208-7cf7-41bf-b129-380dc80270b7",
   "metadata": {},
   "source": [
    "### Start Project"
   ]
  },
  {
   "cell_type": "markdown",
   "id": "2f41962f-d250-488d-9b90-b1ca6d084a16",
   "metadata": {},
   "source": [
    "If you are like me and want to work with a Julia project, start it up. See the `Readme.md` file in this repo for how to create a project. We will be adding to this project as we go through these notebooks and all add-on packages will be stored here. Within each notebook, you have to load `Pkg` and activate the specific package that we are using. Here you go. "
   ]
  },
  {
   "cell_type": "code",
   "execution_count": 2,
   "id": "48537ce8-685b-499b-930e-c7f9d02c3950",
   "metadata": {},
   "outputs": [
    {
     "name": "stderr",
     "output_type": "stream",
     "text": [
      "\u001b[32m\u001b[1m  Activating\u001b[22m\u001b[39m project at `~/research/JuliaDataScience/notebooks/juliadatascience`\n"
     ]
    }
   ],
   "source": [
    "using Pkg\n",
    "Pkg.activate(\"juliadatascience\")"
   ]
  },
  {
   "cell_type": "code",
   "execution_count": null,
   "id": "98ea0010-1f1f-4d21-aa2e-bbb35994be01",
   "metadata": {},
   "outputs": [],
   "source": []
  }
 ],
 "metadata": {
  "kernelspec": {
   "display_name": "Julia 1.8.4",
   "language": "julia",
   "name": "julia-1.8"
  },
  "language_info": {
   "file_extension": ".jl",
   "mimetype": "application/julia",
   "name": "julia",
   "version": "1.8.4"
  }
 },
 "nbformat": 4,
 "nbformat_minor": 5
}
