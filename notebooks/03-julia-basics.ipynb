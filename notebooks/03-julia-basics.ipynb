{
 "cells": [
  {
   "cell_type": "markdown",
   "id": "729ecbaf-f06d-4d4c-b879-fe23e9017c9a",
   "metadata": {},
   "source": [
    "# Chapter Three: Julia Basics"
   ]
  },
  {
   "cell_type": "markdown",
   "id": "0a8b3104-741d-422f-b0bf-d647d6a2a4a0",
   "metadata": {},
   "source": [
    "Note that I am skipping Chapters One and Two because there isn't much code in those chapters. I suggest reading them for completeness though. "
   ]
  },
  {
   "cell_type": "markdown",
   "id": "54798208-7cf7-41bf-b129-380dc80270b7",
   "metadata": {},
   "source": [
    "## A Note on Projects"
   ]
  },
  {
   "cell_type": "markdown",
   "id": "2f41962f-d250-488d-9b90-b1ca6d084a16",
   "metadata": {},
   "source": [
    "If you are like me and want to work with a Julia project, start it up. See the `Readme.md` file in this repo for how to create a project. We will be adding to this project as we go through these notebooks and all add-on packages will be stored here. Within each notebook, you have to load `Pkg` and activate the specific project that we are using. This keeps track of all of our installed packages for this project. This first chapter really only uses standard packages (I think), so it's not terribly important. I'll keep it here nevertheless. Here you go. "
   ]
  },
  {
   "cell_type": "code",
   "execution_count": 1,
   "id": "48537ce8-685b-499b-930e-c7f9d02c3950",
   "metadata": {},
   "outputs": [
    {
     "name": "stderr",
     "output_type": "stream",
     "text": [
      "\u001b[32m\u001b[1m  Activating\u001b[22m\u001b[39m project at `~/research/JuliaDataScience/notebooks/juliadatascience`\n"
     ]
    }
   ],
   "source": [
    "using Pkg\n",
    "Pkg.activate(\"juliadatascience\")"
   ]
  },
  {
   "cell_type": "markdown",
   "id": "7edefb8c-02d5-49c6-b298-12d191b1614d",
   "metadata": {},
   "source": [
    "## 3.1 Development Environments"
   ]
  },
  {
   "cell_type": "code",
   "execution_count": 2,
   "id": "98ea0010-1f1f-4d21-aa2e-bbb35994be01",
   "metadata": {
    "tags": []
   },
   "outputs": [
    {
     "data": {
      "text/plain": [
       "2"
      ]
     },
     "execution_count": 2,
     "metadata": {},
     "output_type": "execute_result"
    }
   ],
   "source": [
    "x = 2"
   ]
  },
  {
   "cell_type": "code",
   "execution_count": 3,
   "id": "02fc9482-26a8-47a4-85f9-cc39e88c1903",
   "metadata": {},
   "outputs": [
    {
     "data": {
      "text/plain": [
       "3"
      ]
     },
     "execution_count": 3,
     "metadata": {},
     "output_type": "execute_result"
    }
   ],
   "source": [
    "x + 1"
   ]
  },
  {
   "cell_type": "markdown",
   "id": "a291ea89-be54-4a97-8c6c-51319c6ac96c",
   "metadata": {},
   "source": [
    "We created a file named `script.jl` with the following code. "
   ]
  },
  {
   "cell_type": "markdown",
   "id": "b249b197-e089-4284-b8e1-bdde837af821",
   "metadata": {},
   "source": [
    "```\n",
    "x = 3\n",
    "y = 4\n",
    "```"
   ]
  },
  {
   "cell_type": "markdown",
   "id": "58eacf0b-0127-4679-800d-034856b028dc",
   "metadata": {},
   "source": [
    "We can use the `include` statement to execute the code in this file, i.e. load the file into Julia. "
   ]
  },
  {
   "cell_type": "code",
   "execution_count": 4,
   "id": "7d444f3a-baed-4217-a685-91de4ea41ed0",
   "metadata": {},
   "outputs": [
    {
     "data": {
      "text/plain": [
       "4"
      ]
     },
     "execution_count": 4,
     "metadata": {},
     "output_type": "execute_result"
    }
   ],
   "source": [
    "include(\"script.jl\")"
   ]
  },
  {
   "cell_type": "code",
   "execution_count": 5,
   "id": "e5aafa38-0f23-4d30-b40a-956539c83edb",
   "metadata": {},
   "outputs": [
    {
     "data": {
      "text/plain": [
       "3"
      ]
     },
     "execution_count": 5,
     "metadata": {},
     "output_type": "execute_result"
    }
   ],
   "source": [
    "x"
   ]
  },
  {
   "cell_type": "code",
   "execution_count": 6,
   "id": "d78f5a7b-954c-484e-854e-6646fd6a079d",
   "metadata": {},
   "outputs": [
    {
     "data": {
      "text/plain": [
       "4"
      ]
     },
     "execution_count": 6,
     "metadata": {},
     "output_type": "execute_result"
    }
   ],
   "source": [
    "y"
   ]
  },
  {
   "cell_type": "markdown",
   "id": "cde8bc4b-2e68-45e2-b6bd-dc9d77c45846",
   "metadata": {},
   "source": [
    "## 3.2 Language Syntax"
   ]
  },
  {
   "cell_type": "markdown",
   "id": "de76a563-3bd3-4a86-9031-d6f586f98ccf",
   "metadata": {},
   "source": [
    "### 3.2.1 Variables"
   ]
  },
  {
   "cell_type": "code",
   "execution_count": 7,
   "id": "4afaee14-9cd3-4ef7-9292-2435c80bb1b1",
   "metadata": {},
   "outputs": [
    {
     "data": {
      "text/plain": [
       "9"
      ]
     },
     "execution_count": 7,
     "metadata": {},
     "output_type": "execute_result"
    }
   ],
   "source": [
    "name = \"Julia\"\n",
    "age = 9"
   ]
  },
  {
   "cell_type": "code",
   "execution_count": 8,
   "id": "fba688a2-fd10-4783-8f51-843efd6df4f7",
   "metadata": {},
   "outputs": [
    {
     "data": {
      "text/plain": [
       "\"Julia\""
      ]
     },
     "execution_count": 8,
     "metadata": {},
     "output_type": "execute_result"
    }
   ],
   "source": [
    "name"
   ]
  },
  {
   "cell_type": "code",
   "execution_count": 9,
   "id": "c5bca4fb-c1ab-483e-9317-dce01da90f37",
   "metadata": {},
   "outputs": [
    {
     "data": {
      "text/plain": [
       "10"
      ]
     },
     "execution_count": 9,
     "metadata": {},
     "output_type": "execute_result"
    }
   ],
   "source": [
    "age = 10"
   ]
  },
  {
   "cell_type": "code",
   "execution_count": 10,
   "id": "6997b093-7072-47ef-8de9-480761a1c349",
   "metadata": {},
   "outputs": [
    {
     "data": {
      "text/plain": [
       "\"Julia Rapidus\""
      ]
     },
     "execution_count": 10,
     "metadata": {},
     "output_type": "execute_result"
    }
   ],
   "source": [
    "name = \"Julia Rapidus\""
   ]
  },
  {
   "cell_type": "code",
   "execution_count": 11,
   "id": "f26df0a5-1508-42af-bc7b-345ad3f9c636",
   "metadata": {},
   "outputs": [
    {
     "data": {
      "text/plain": [
       "120"
      ]
     },
     "execution_count": 11,
     "metadata": {},
     "output_type": "execute_result"
    }
   ],
   "source": [
    "12 * age"
   ]
  },
  {
   "cell_type": "code",
   "execution_count": 12,
   "id": "037ad939-b445-44b9-af99-4e9fa741d586",
   "metadata": {},
   "outputs": [
    {
     "data": {
      "text/plain": [
       "Int64"
      ]
     },
     "execution_count": 12,
     "metadata": {},
     "output_type": "execute_result"
    }
   ],
   "source": [
    "typeof(age)"
   ]
  },
  {
   "cell_type": "markdown",
   "id": "1ecde459-61f9-4d00-a7b6-297f7fbcc9a5",
   "metadata": {},
   "source": [
    "Note that by default both integers and real numbers are stored using 64 bits. You can define more or less bits if needed. "
   ]
  },
  {
   "cell_type": "markdown",
   "id": "8b59c1ec-87fe-4615-bafc-f400bf3b0f76",
   "metadata": {},
   "source": [
    "This next command is super useful. I always forget in python what functions or methods can actually be applied to variables objects. The authors of the book describe this operation for integers as “What else can I do with integers?” In general, if you have an object, just replace whatever object with integer in the next code chunk. The `first` function will restrict the output to the first five elements in the vector."
   ]
  },
  {
   "cell_type": "code",
   "execution_count": 13,
   "id": "b92183a3-0dc5-4f5d-a843-732307110a56",
   "metadata": {},
   "outputs": [
    {
     "data": {
      "text/html": [
       "5-element Vector{Method}:<ul><li> AbstractFloat(x::<b>Int64</b>) in Base at <a href=\"https://github.com/JuliaLang/julia/tree/00177ebc4fcadaaa37c4c2cbca2f9db75ba4d8e3/base/float.jl#L243\" target=\"_blank\">float.jl:243</a><li> Float16(x::<b>Int64</b>) in Base at <a href=\"https://github.com/JuliaLang/julia/tree/00177ebc4fcadaaa37c4c2cbca2f9db75ba4d8e3/base/float.jl#L146\" target=\"_blank\">float.jl:146</a><li> Float32(x::<b>Int64</b>) in Base at <a href=\"https://github.com/JuliaLang/julia/tree/00177ebc4fcadaaa37c4c2cbca2f9db75ba4d8e3/base/float.jl#L146\" target=\"_blank\">float.jl:146</a><li> Float64(x::<b>Int64</b>) in Base at <a href=\"https://github.com/JuliaLang/julia/tree/00177ebc4fcadaaa37c4c2cbca2f9db75ba4d8e3/base/float.jl#L146\" target=\"_blank\">float.jl:146</a><li> Int64(x::<b>Union{Bool, Int32, Int64, UInt32, UInt64, UInt8, Int128, Int16, Int8, UInt128, UInt16}</b>) in Core at <a href=\"file:///Applications/Julia-1.8.app/Contents/Resources/julia/share/julia/base/boot.jl\" target=\"_blank\">boot.jl:764</a></ul>"
      ],
      "text/plain": [
       "[1] AbstractFloat(x::Int64) in Base at float.jl:243\n",
       "[2] Float16(x::Int64) in Base at float.jl:146\n",
       "[3] Float32(x::Int64) in Base at float.jl:146\n",
       "[4] Float64(x::Int64) in Base at float.jl:146\n",
       "[5] Int64(x::Union{Bool, Int32, Int64, UInt32, UInt64, UInt8, Int128, Int16, Int8, UInt128, UInt16}) in Core at boot.jl:764"
      ]
     },
     "execution_count": 13,
     "metadata": {},
     "output_type": "execute_result"
    }
   ],
   "source": [
    "first(methodswith(Int64), 5)"
   ]
  },
  {
   "cell_type": "markdown",
   "id": "1bb0f59a-452b-4c40-905f-d554a662770d",
   "metadata": {},
   "source": [
    "### 3.2.2 User-Defined Types"
   ]
  },
  {
   "cell_type": "markdown",
   "id": "7aa223ba-e983-4398-becf-2489a2a1b2d4",
   "metadata": {},
   "source": [
    "In Julia, you can create your own user-defined data type called a `struct`. Here's the first one that the book defines. It's a data object for storing information about programming languages in fields. To view the fields of a `struct`, you use the `fieldnames(your_named_struct)` command.  "
   ]
  },
  {
   "cell_type": "code",
   "execution_count": 14,
   "id": "1d1198c4-f9b4-4372-bdd6-f5b56bd7fa0f",
   "metadata": {},
   "outputs": [],
   "source": [
    "struct Language\n",
    "    name::String\n",
    "    title::String\n",
    "    year_of_birth::Int64\n",
    "    fast::Bool\n",
    "end"
   ]
  },
  {
   "cell_type": "code",
   "execution_count": 15,
   "id": "da55ed93-44a9-4b98-bdfb-56da85e32aca",
   "metadata": {},
   "outputs": [
    {
     "data": {
      "text/plain": [
       "(:name, :title, :year_of_birth, :fast)"
      ]
     },
     "execution_count": 15,
     "metadata": {},
     "output_type": "execute_result"
    }
   ],
   "source": [
    "fieldnames(Language)"
   ]
  },
  {
   "cell_type": "markdown",
   "id": "70448acd-ff88-4db2-816b-d51f03dd72ed",
   "metadata": {},
   "source": [
    "The `struct` is just an object type until you define them using the `=` sign. For example, here are the two `struct`s named ulia and python...clever."
   ]
  },
  {
   "cell_type": "code",
   "execution_count": 16,
   "id": "238a2c50-ba25-4829-9954-71afaf6787b8",
   "metadata": {},
   "outputs": [
    {
     "data": {
      "text/plain": [
       "Language(\"Python\", \"Letargicus\", 1991, false)"
      ]
     },
     "execution_count": 16,
     "metadata": {},
     "output_type": "execute_result"
    }
   ],
   "source": [
    "julia = Language(\"Julia\", \"Rapidus\", 2012, true)\n",
    "python = Language(\"Python\", \"Letargicus\", 1991, false)"
   ]
  },
  {
   "cell_type": "markdown",
   "id": "aecb3c61-3e1f-4109-b92d-cfe7ecdcb328",
   "metadata": {},
   "source": [
    "(Aside: One thing I don't necessarily like about notebooks is how it returns stuff (output) from the last line in a cell. Why? What's the point?)"
   ]
  },
  {
   "cell_type": "markdown",
   "id": "b390771e-b903-400d-974c-c5b1ca5be86c",
   "metadata": {},
   "source": [
    "Good luck changing the values of those objects we just defined! You can't. Those things are fixed in place once defined and if you need a `struct` that can be changed, use a `mutable struct` instead, e.g. here's `MutableLanguage`. "
   ]
  },
  {
   "cell_type": "code",
   "execution_count": 17,
   "id": "30e05c4f-049c-4503-9366-6ccabc8b6c77",
   "metadata": {},
   "outputs": [
    {
     "data": {
      "text/plain": [
       "MutableLanguage(\"Julia\", \"Rapidus\", 2012, true)"
      ]
     },
     "execution_count": 17,
     "metadata": {},
     "output_type": "execute_result"
    }
   ],
   "source": [
    "mutable struct MutableLanguage\n",
    "    name::String\n",
    "    title::String\n",
    "    year_of_birth::Int64\n",
    "    fast::Bool\n",
    "end\n",
    "\n",
    "julia_mutable = MutableLanguage(\"Julia\", \"Rapidus\", 2012, true)"
   ]
  },
  {
   "cell_type": "markdown",
   "id": "f40549d6-05cb-467e-8932-e0c322c40c66",
   "metadata": {},
   "source": [
    "Now, if we want to change a field in the `mutable struct`, e.g. the `title` field, we just "
   ]
  },
  {
   "cell_type": "code",
   "execution_count": 18,
   "id": "c7dbdaeb-6845-415e-ab9f-9d14e7e3e46e",
   "metadata": {},
   "outputs": [
    {
     "data": {
      "text/plain": [
       "MutableLanguage(\"Julia\", \"Python Obliteratus\", 2012, true)"
      ]
     },
     "execution_count": 18,
     "metadata": {},
     "output_type": "execute_result"
    }
   ],
   "source": [
    "julia_mutable.title = \"Python Obliteratus\"\n",
    "\n",
    "julia_mutable"
   ]
  },
  {
   "cell_type": "markdown",
   "id": "b17dd491-6c47-4d8c-863d-152325512be1",
   "metadata": {},
   "source": [
    "Boy, they are clever with their python digs. :/ Or they have a serious case of little bro-itis. Whatever. "
   ]
  },
  {
   "cell_type": "markdown",
   "id": "5bfde5b5-b75b-40c4-a7f4-ce92f8c1f94c",
   "metadata": {},
   "source": [
    "### 3.2.3 Boolean Operators and Numeric Comparisons"
   ]
  },
  {
   "cell_type": "markdown",
   "id": "4950acb3-1dd6-4cf5-a0c8-e46ff2995ab8",
   "metadata": {},
   "source": [
    "Boolean operators are pretty standard with the three usuals: not (`!`), and (`&&`), and or (`||`). Boolean's in action:"
   ]
  },
  {
   "cell_type": "code",
   "execution_count": 19,
   "id": "f277cd3a-03a2-430a-bc57-3770ad0d4061",
   "metadata": {},
   "outputs": [
    {
     "data": {
      "text/plain": [
       "true"
      ]
     },
     "execution_count": 19,
     "metadata": {},
     "output_type": "execute_result"
    }
   ],
   "source": [
    "!false"
   ]
  },
  {
   "cell_type": "code",
   "execution_count": 20,
   "id": "7da493a3-402a-4198-b36c-6b74c3df408b",
   "metadata": {},
   "outputs": [
    {
     "data": {
      "text/plain": [
       "true"
      ]
     },
     "execution_count": 20,
     "metadata": {},
     "output_type": "execute_result"
    }
   ],
   "source": [
    "(false && true) || (!false) ## Note the order of operations is obviously standard"
   ]
  },
  {
   "cell_type": "code",
   "execution_count": 21,
   "id": "c61509bd-3e13-4cfe-a1ed-2f6899dd1859",
   "metadata": {},
   "outputs": [
    {
     "data": {
      "text/plain": [
       "true"
      ]
     },
     "execution_count": 21,
     "metadata": {},
     "output_type": "execute_result"
    }
   ],
   "source": [
    "(6 isa Int64) && (6 isa Real)"
   ]
  },
  {
   "cell_type": "markdown",
   "id": "8b0670fc-8a7f-4349-bf81-e0157403d4fc",
   "metadata": {},
   "source": [
    "That last one kind of blows my mind. Julia has the usual comparison operators too, e.g. equality, less than (or equal to), and greater than (or equal to). They are `==`, `<` (or `<=`), and `>` (or `>=`), respectively. You can use `≠`, `≤`, or `≥` signs if you want, but I probably will stick to the `>=` type comparisons. Here are some examples."
   ]
  },
  {
   "cell_type": "code",
   "execution_count": 22,
   "id": "72d653a3-66fd-46ad-b6f4-2e02cf5a97bb",
   "metadata": {},
   "outputs": [
    {
     "data": {
      "text/plain": [
       "true"
      ]
     },
     "execution_count": 22,
     "metadata": {},
     "output_type": "execute_result"
    }
   ],
   "source": [
    "1 == 1"
   ]
  },
  {
   "cell_type": "code",
   "execution_count": 23,
   "id": "477e7b08-07f5-4751-ae60-e46dab1790d1",
   "metadata": {},
   "outputs": [
    {
     "data": {
      "text/plain": [
       "false"
      ]
     },
     "execution_count": 23,
     "metadata": {},
     "output_type": "execute_result"
    }
   ],
   "source": [
    "1 >= 10"
   ]
  },
  {
   "cell_type": "code",
   "execution_count": 24,
   "id": "42f35d6a-60dd-4955-bd46-442f085d5d3d",
   "metadata": {},
   "outputs": [
    {
     "data": {
      "text/plain": [
       "false"
      ]
     },
     "execution_count": 24,
     "metadata": {},
     "output_type": "execute_result"
    }
   ],
   "source": [
    "1 ≥ 10"
   ]
  },
  {
   "cell_type": "code",
   "execution_count": 25,
   "id": "034c9836-2851-47e7-8d85-38631f298feb",
   "metadata": {},
   "outputs": [
    {
     "data": {
      "text/plain": [
       "true"
      ]
     },
     "execution_count": 25,
     "metadata": {},
     "output_type": "execute_result"
    }
   ],
   "source": [
    "1 == 1.0 # even on different object types"
   ]
  },
  {
   "cell_type": "code",
   "execution_count": 26,
   "id": "0116808e-d8d6-4380-870f-0e0f3ba2e079",
   "metadata": {},
   "outputs": [
    {
     "data": {
      "text/plain": [
       "Int64"
      ]
     },
     "execution_count": 26,
     "metadata": {},
     "output_type": "execute_result"
    }
   ],
   "source": [
    "typeof(1)"
   ]
  },
  {
   "cell_type": "code",
   "execution_count": 27,
   "id": "fdaad826-20f2-42df-9d24-e6c60dd0abcd",
   "metadata": {},
   "outputs": [
    {
     "data": {
      "text/plain": [
       "Float64"
      ]
     },
     "execution_count": 27,
     "metadata": {},
     "output_type": "execute_result"
    }
   ],
   "source": [
    "typeof(1.0)"
   ]
  },
  {
   "cell_type": "markdown",
   "id": "87cfa89b-5e2b-48a2-9393-fd6f6e0f0316",
   "metadata": {},
   "source": [
    "What the?"
   ]
  },
  {
   "cell_type": "code",
   "execution_count": 28,
   "id": "8280632c-0466-4c6e-b648-09821c73bc41",
   "metadata": {},
   "outputs": [
    {
     "data": {
      "text/plain": [
       "true"
      ]
     },
     "execution_count": 28,
     "metadata": {},
     "output_type": "execute_result"
    }
   ],
   "source": [
    "(1 != 10) || (3.14 <= 2.71)"
   ]
  },
  {
   "cell_type": "markdown",
   "id": "bdacadf0-a0a3-407c-974a-cd8f4d7855ea",
   "metadata": {},
   "source": [
    "### 3.2.4 Functions"
   ]
  },
  {
   "cell_type": "markdown",
   "id": "da09bbb0-954f-4800-84ed-b26e5c4e9488",
   "metadata": {},
   "source": [
    "Okay, time for some cool stuff. Let's learn about functions. How write/define them, use them, etc. I like their description of functions, \"In Julia, a function **maps argument’s values to one or more return values**.\" Note: You'll get an error if you try to run this code chunk. "
   ]
  },
  {
   "cell_type": "code",
   "execution_count": 29,
   "id": "9178126e-c85d-43fd-8a5c-54491b1ca70f",
   "metadata": {},
   "outputs": [
    {
     "ename": "LoadError",
     "evalue": "syntax: \"function\" at In[29]:1 expected \"end\", got \"with\"",
     "output_type": "error",
     "traceback": [
      "syntax: \"function\" at In[29]:1 expected \"end\", got \"with\"",
      "",
      "Stacktrace:",
      " [1] top-level scope",
      "   @ In[29]:2"
     ]
    }
   ],
   "source": [
    "function function_name(arg1, arg2)\n",
    "    result = stuff with the arg1 and arg2\n",
    "    return result\n",
    "end"
   ]
  },
  {
   "cell_type": "markdown",
   "id": "2f9a5e23-919a-40c3-ac01-6ef979b7fe82",
   "metadata": {},
   "source": [
    "Note that `arg1` and `arg2` are deleted after the function runs. The only thing that is returned is `return`. Pretty standard stuff. The one-liner version of that function is pretty nice. "
   ]
  },
  {
   "cell_type": "code",
   "execution_count": 30,
   "id": "b7105684-dd9a-43d3-84a2-c8ae21f3474e",
   "metadata": {},
   "outputs": [
    {
     "ename": "LoadError",
     "evalue": "syntax: extra token \"with\" after end of expression",
     "output_type": "error",
     "traceback": [
      "syntax: extra token \"with\" after end of expression",
      "",
      "Stacktrace:",
      " [1] top-level scope",
      "   @ In[30]:1"
     ]
    }
   ],
   "source": [
    "f_name(arg1, arg2) = stuff with the arg1 and arg2"
   ]
  },
  {
   "cell_type": "markdown",
   "id": "5adc7947-e229-48d4-85a2-7e6796c5a653",
   "metadata": {},
   "source": [
    "#### 3.2.4.1 Creating new Functions"
   ]
  },
  {
   "cell_type": "code",
   "execution_count": 31,
   "id": "4665edff-685c-4bd9-958d-929c355ac1ed",
   "metadata": {},
   "outputs": [
    {
     "data": {
      "text/plain": [
       "add_numbers (generic function with 1 method)"
      ]
     },
     "execution_count": 31,
     "metadata": {},
     "output_type": "execute_result"
    }
   ],
   "source": [
    "function add_numbers(x, y)\n",
    "    return x + y\n",
    "end"
   ]
  },
  {
   "cell_type": "code",
   "execution_count": 32,
   "id": "684bcecf-2cbc-4197-9c60-a444e18c1196",
   "metadata": {},
   "outputs": [
    {
     "data": {
      "text/plain": [
       "25"
      ]
     },
     "execution_count": 32,
     "metadata": {},
     "output_type": "execute_result"
    }
   ],
   "source": [
    "add_numbers(2, 23)"
   ]
  },
  {
   "cell_type": "code",
   "execution_count": 33,
   "id": "2f361bd6-6da5-4d22-a0cb-f0912ab67bf7",
   "metadata": {},
   "outputs": [
    {
     "data": {
      "text/plain": [
       "5.86"
      ]
     },
     "execution_count": 33,
     "metadata": {},
     "output_type": "execute_result"
    }
   ],
   "source": [
    "add_numbers(3.14, 2.72)"
   ]
  },
  {
   "cell_type": "markdown",
   "id": "69d2651e-1931-4d06-a462-b5448cf3636b",
   "metadata": {},
   "source": [
    "You might want to have a function that behaves differently for different types of inputs. For example, suppose a function`round_numbers` should return a rounded value if given floats. You can define multiple functions with the same name, but different inputs. Julia will recognize the appropriate function to invoke depending on its inputs. "
   ]
  },
  {
   "cell_type": "code",
   "execution_count": 34,
   "id": "26d1fadb-be47-42a2-a058-54411fd3923d",
   "metadata": {},
   "outputs": [
    {
     "data": {
      "text/plain": [
       "round_number (generic function with 2 methods)"
      ]
     },
     "execution_count": 34,
     "metadata": {},
     "output_type": "execute_result"
    }
   ],
   "source": [
    "function round_number(x::Float64)\n",
    "    return round(x)\n",
    "end\n",
    "\n",
    "function round_number(x::Int64)\n",
    "    return x\n",
    "end"
   ]
  },
  {
   "cell_type": "markdown",
   "id": "14cdb2a6-8090-484b-8819-e23713f04eff",
   "metadata": {},
   "source": [
    "Here's another handy function, `methods`. Again, something that I need a million times when programming in whatever language. Try it out on the `round_number` functions. "
   ]
  },
  {
   "cell_type": "code",
   "execution_count": 35,
   "id": "82cd0b2c-4010-45f1-88be-9f02ab08922a",
   "metadata": {},
   "outputs": [
    {
     "data": {
      "text/html": [
       "# 2 methods for generic function <b>round_number</b>:<ul><li> round_number(x::<b>Float64</b>) in Main at In[34]:1</li> <li> round_number(x::<b>Int64</b>) in Main at In[34]:5</li> </ul>"
      ],
      "text/plain": [
       "# 2 methods for generic function \"round_number\":\n",
       "[1] round_number(x::Float64) in Main at In[34]:1\n",
       "[2] round_number(x::Int64) in Main at In[34]:5"
      ]
     },
     "execution_count": 35,
     "metadata": {},
     "output_type": "execute_result"
    }
   ],
   "source": [
    "methods(round_number)"
   ]
  },
  {
   "cell_type": "markdown",
   "id": "4255faf0-97c2-4e86-a519-c1b2943833a9",
   "metadata": {},
   "source": [
    "Hmmmm, good point authors of the text. What if we want to add two 8-bit integers or something else? We can create a generic function with an **abstract type** such as `AbstractFloat` or `Integer`. Very handy indeed. "
   ]
  },
  {
   "cell_type": "code",
   "execution_count": 36,
   "id": "f16cd42b-20f0-4ac1-b607-fd736b127b26",
   "metadata": {},
   "outputs": [
    {
     "data": {
      "text/plain": [
       "round_number (generic function with 3 methods)"
      ]
     },
     "execution_count": 36,
     "metadata": {},
     "output_type": "execute_result"
    }
   ],
   "source": [
    "function round_number(x::AbstractFloat)\n",
    "    return x\n",
    "end"
   ]
  },
  {
   "cell_type": "code",
   "execution_count": 37,
   "id": "f9924af5-d78a-42a3-88e2-563a60454933",
   "metadata": {},
   "outputs": [
    {
     "data": {
      "text/html": [
       "# 3 methods for generic function <b>round_number</b>:<ul><li> round_number(x::<b>Float64</b>) in Main at In[34]:1</li> <li> round_number(x::<b>AbstractFloat</b>) in Main at In[36]:1</li> <li> round_number(x::<b>Int64</b>) in Main at In[34]:5</li> </ul>"
      ],
      "text/plain": [
       "# 3 methods for generic function \"round_number\":\n",
       "[1] round_number(x::Float64) in Main at In[34]:1\n",
       "[2] round_number(x::AbstractFloat) in Main at In[36]:1\n",
       "[3] round_number(x::Int64) in Main at In[34]:5"
      ]
     },
     "execution_count": 37,
     "metadata": {},
     "output_type": "execute_result"
    }
   ],
   "source": [
    "methods(round_number)"
   ]
  },
  {
   "cell_type": "code",
   "execution_count": 38,
   "id": "62448ffc-ce66-413e-b4e3-dba16882ef79",
   "metadata": {},
   "outputs": [
    {
     "data": {
      "text/plain": [
       "1.1f0"
      ]
     },
     "execution_count": 38,
     "metadata": {},
     "output_type": "execute_result"
    }
   ],
   "source": [
    "x_32 = Float32(1.1)\n",
    "round_number(x_32)"
   ]
  },
  {
   "cell_type": "markdown",
   "id": "c271af3e-88ae-4880-b086-42623ec538ac",
   "metadata": {},
   "source": [
    "More handy features. The `Base.show` function will return a default printing of specific objects, e.g. that `struct` that we defined before for different programming languages. You can specify how you want `Base.show` to operate on specific objects by creating a new `Base.show` for your `struct` if you want. Take a look at the default `Base.show`. "
   ]
  },
  {
   "cell_type": "code",
   "execution_count": 39,
   "id": "7f2e99ae-7693-45c5-a15a-8c7683f652ec",
   "metadata": {},
   "outputs": [
    {
     "name": "stdout",
     "output_type": "stream",
     "text": [
      "Language(\"Python\", \"Letargicus\", 1991, false)"
     ]
    }
   ],
   "source": [
    "Base.show(python)"
   ]
  },
  {
   "cell_type": "code",
   "execution_count": 40,
   "id": "46a314a9-7019-40df-962e-dd6a1949ecb0",
   "metadata": {},
   "outputs": [
    {
     "name": "stdout",
     "output_type": "stream",
     "text": [
      "Language(\"Python\", \"Letargicus\", 1991, false)"
     ]
    }
   ],
   "source": [
    "show(python)"
   ]
  },
  {
   "cell_type": "code",
   "execution_count": 41,
   "id": "c54a9f93-916c-4085-ad59-0a27cf83444a",
   "metadata": {},
   "outputs": [
    {
     "name": "stdout",
     "output_type": "stream",
     "text": [
      "Language(\"Julia\", \"Rapidus\", 2012, true)"
     ]
    }
   ],
   "source": [
    "show(julia)"
   ]
  },
  {
   "cell_type": "code",
   "execution_count": 42,
   "id": "1b340f2d-fdb3-4f15-a839-1c5e74aaf4bc",
   "metadata": {},
   "outputs": [
    {
     "data": {
      "text/plain": [
       "show (generic function with 281 methods)"
      ]
     },
     "execution_count": 42,
     "metadata": {},
     "output_type": "execute_result"
    }
   ],
   "source": [
    "Base.show"
   ]
  },
  {
   "cell_type": "code",
   "execution_count": 43,
   "id": "3d77d551-cb97-4e1b-ad2c-80f2d23e8d00",
   "metadata": {},
   "outputs": [],
   "source": [
    "Base.show(io::IO, l::Language) = print(\n",
    "    io, l.name, \", \",\n",
    "    2021 - l.year_of_birth, \" years old, \",\n",
    "    \"has the following titles: \", l.title\n",
    ")"
   ]
  },
  {
   "cell_type": "code",
   "execution_count": 44,
   "id": "26253143-74fc-41e9-9075-481f1cac3bd8",
   "metadata": {},
   "outputs": [
    {
     "data": {
      "text/plain": [
       "show (generic function with 282 methods)"
      ]
     },
     "execution_count": 44,
     "metadata": {},
     "output_type": "execute_result"
    }
   ],
   "source": [
    "Base.show"
   ]
  },
  {
   "cell_type": "code",
   "execution_count": 45,
   "id": "07574669-f643-4455-bcc4-89f65d913ba1",
   "metadata": {},
   "outputs": [
    {
     "name": "stdout",
     "output_type": "stream",
     "text": [
      "Python, 30 years old, has the following titles: Letargicus"
     ]
    }
   ],
   "source": [
    "Base.show(python)"
   ]
  },
  {
   "cell_type": "markdown",
   "id": "32cb11be-a6f6-4bd8-808a-0cf9e7d28226",
   "metadata": {},
   "source": [
    "#### 3.2.4.2 Multiple Return Values"
   ]
  },
  {
   "cell_type": "code",
   "execution_count": 46,
   "id": "52f0e5ee-fb8f-4e64-8b45-f05cdddd889d",
   "metadata": {},
   "outputs": [
    {
     "data": {
      "text/plain": [
       "add_multiply (generic function with 1 method)"
      ]
     },
     "execution_count": 46,
     "metadata": {},
     "output_type": "execute_result"
    }
   ],
   "source": [
    "function add_multiply(x, y)\n",
    "    addition = x + y\n",
    "    multiplication = x * y\n",
    "    return addition, multiplication\n",
    "end"
   ]
  },
  {
   "cell_type": "code",
   "execution_count": 47,
   "id": "0b496b41-d079-4f2b-be4a-7f2e6782297c",
   "metadata": {},
   "outputs": [
    {
     "data": {
      "text/plain": [
       "(3, 2)"
      ]
     },
     "execution_count": 47,
     "metadata": {},
     "output_type": "execute_result"
    }
   ],
   "source": [
    "return_1, return_2 = add_multiply(1, 2)"
   ]
  },
  {
   "cell_type": "code",
   "execution_count": 48,
   "id": "2f64fe2c-cdd7-4a87-9706-d7271fe19af4",
   "metadata": {},
   "outputs": [
    {
     "data": {
      "text/plain": [
       "3"
      ]
     },
     "execution_count": 48,
     "metadata": {},
     "output_type": "execute_result"
    }
   ],
   "source": [
    "return_1"
   ]
  },
  {
   "cell_type": "code",
   "execution_count": 49,
   "id": "8bca9abb-31eb-4e91-a19a-891d51d26167",
   "metadata": {},
   "outputs": [
    {
     "data": {
      "text/plain": [
       "2"
      ]
     },
     "execution_count": 49,
     "metadata": {},
     "output_type": "execute_result"
    }
   ],
   "source": [
    "return_2"
   ]
  },
  {
   "cell_type": "markdown",
   "id": "86eb07aa-3fec-44de-8d8d-895eaeb37bf3",
   "metadata": {},
   "source": [
    "I like being able to define multiple items being returned in this way. There is also a `first` and `last` function that we can use from `Base`. "
   ]
  },
  {
   "cell_type": "code",
   "execution_count": 50,
   "id": "6522b4d7-bb95-4688-9971-8bf11ec3521e",
   "metadata": {},
   "outputs": [
    {
     "data": {
      "text/plain": [
       "(3, 2)"
      ]
     },
     "execution_count": 50,
     "metadata": {},
     "output_type": "execute_result"
    }
   ],
   "source": [
    "all_returns = add_multiply(1, 2)"
   ]
  },
  {
   "cell_type": "code",
   "execution_count": 52,
   "id": "6481cf90-94ca-4e47-97b0-d44b882ad9f5",
   "metadata": {},
   "outputs": [
    {
     "data": {
      "text/plain": [
       "3"
      ]
     },
     "execution_count": 52,
     "metadata": {},
     "output_type": "execute_result"
    }
   ],
   "source": [
    "Base.first(all_returns) ## or just first(all_returns)"
   ]
  },
  {
   "cell_type": "code",
   "execution_count": 53,
   "id": "10589d73-6485-469e-af02-f1571cc0589a",
   "metadata": {},
   "outputs": [
    {
     "data": {
      "text/plain": [
       "2"
      ]
     },
     "execution_count": 53,
     "metadata": {},
     "output_type": "execute_result"
    }
   ],
   "source": [
    "last(all_returns) ## or Base.last(all_returns)"
   ]
  },
  {
   "cell_type": "markdown",
   "id": "845eeb1f-0872-43d1-9df1-7f98748c0255",
   "metadata": {},
   "source": [
    "Can we do this with multiple returns? If so, what's the trick? A `tuple` is returned, so you can access the elements with the `[]` notation. Note: Julia uses a 1-based index. "
   ]
  },
  {
   "cell_type": "code",
   "execution_count": 54,
   "id": "96ffeb7b-196a-4782-9f4e-93e92a1e6e12",
   "metadata": {},
   "outputs": [
    {
     "data": {
      "text/plain": [
       "add_multiply_divide (generic function with 1 method)"
      ]
     },
     "execution_count": 54,
     "metadata": {},
     "output_type": "execute_result"
    }
   ],
   "source": [
    "function add_multiply_divide(x, y)\n",
    "    addition = x + y\n",
    "    multiplication = x * y\n",
    "    division = x/y\n",
    "    return addition, multiplication, division\n",
    "end"
   ]
  },
  {
   "cell_type": "code",
   "execution_count": 55,
   "id": "bdd1c43f-40de-4e43-936c-ace77eaac407",
   "metadata": {},
   "outputs": [
    {
     "data": {
      "text/plain": [
       "(12, 20, 5.0)"
      ]
     },
     "execution_count": 55,
     "metadata": {},
     "output_type": "execute_result"
    }
   ],
   "source": [
    "all_returns = add_multiply_divide(10,2)\n",
    "all_returns"
   ]
  },
  {
   "cell_type": "code",
   "execution_count": 56,
   "id": "ef131229-4363-4ff7-963b-92a87def8d29",
   "metadata": {},
   "outputs": [
    {
     "data": {
      "text/plain": [
       "12"
      ]
     },
     "execution_count": 56,
     "metadata": {},
     "output_type": "execute_result"
    }
   ],
   "source": [
    "first(all_returns)"
   ]
  },
  {
   "cell_type": "code",
   "execution_count": 59,
   "id": "5957a72f-7caf-4f8f-bfc0-11d310f446a1",
   "metadata": {},
   "outputs": [
    {
     "data": {
      "text/plain": [
       "20"
      ]
     },
     "execution_count": 59,
     "metadata": {},
     "output_type": "execute_result"
    }
   ],
   "source": [
    "all_returns[2]"
   ]
  },
  {
   "cell_type": "markdown",
   "id": "10e5159e-33ee-493c-a565-abb39ba1a9c7",
   "metadata": {},
   "source": [
    "#### 3.2.4.3 Keyword Arguments"
   ]
  },
  {
   "cell_type": "markdown",
   "id": "5f3d8798-8ee1-432b-b8be-d7ca1fb221d8",
   "metadata": {},
   "source": [
    "We'll get to keyword arguments in a second. First, how do you know if something is a subtype of another something? Use the `<:` operator. For example, is an `AbstractFloat` a subtype of a `Real`, or `Integer` a subtype of `Real`? Yes. Check it out. "
   ]
  },
  {
   "cell_type": "code",
   "execution_count": 60,
   "id": "c8bd82ac-50a2-4c53-acd5-52fa34aab9a2",
   "metadata": {},
   "outputs": [
    {
     "data": {
      "text/plain": [
       "true"
      ]
     },
     "execution_count": 60,
     "metadata": {},
     "output_type": "execute_result"
    }
   ],
   "source": [
    "AbstractFloat <: Real"
   ]
  },
  {
   "cell_type": "code",
   "execution_count": 61,
   "id": "46af50a5-300a-436e-b4bc-78b5490abfd7",
   "metadata": {},
   "outputs": [
    {
     "data": {
      "text/plain": [
       "true"
      ]
     },
     "execution_count": 61,
     "metadata": {},
     "output_type": "execute_result"
    }
   ],
   "source": [
    "Integer <: Real"
   ]
  },
  {
   "cell_type": "code",
   "execution_count": 62,
   "id": "8c50856f-e927-4726-840f-6c6dc6fb3ed5",
   "metadata": {},
   "outputs": [
    {
     "data": {
      "text/plain": [
       "false"
      ]
     },
     "execution_count": 62,
     "metadata": {},
     "output_type": "execute_result"
    }
   ],
   "source": [
    "Real <: Integer"
   ]
  },
  {
   "cell_type": "markdown",
   "id": "7a95ab1e-8d5c-4022-a20c-c158dce23dd8",
   "metadata": {},
   "source": [
    "OK, here you go for an example about keyword args. It's easy to see in this log function."
   ]
  },
  {
   "cell_type": "code",
   "execution_count": 63,
   "id": "e7d81219-5774-4048-a8b1-0479430bddaa",
   "metadata": {},
   "outputs": [
    {
     "data": {
      "text/plain": [
       "logarithm (generic function with 1 method)"
      ]
     },
     "execution_count": 63,
     "metadata": {},
     "output_type": "execute_result"
    }
   ],
   "source": [
    "function logarithm(x::Real; base::Real=2.7182818284590)\n",
    "    return log(base, x)\n",
    "end"
   ]
  },
  {
   "cell_type": "code",
   "execution_count": 64,
   "id": "9fd02c21-c735-4193-82ab-728c6fbf05ab",
   "metadata": {},
   "outputs": [
    {
     "data": {
      "text/plain": [
       "3.3219280948873626"
      ]
     },
     "execution_count": 64,
     "metadata": {},
     "output_type": "execute_result"
    }
   ],
   "source": [
    "logarithm(10; base=2)"
   ]
  },
  {
   "cell_type": "code",
   "execution_count": 65,
   "id": "0a6bc5b4-4a96-487f-976a-ad2fe827e36b",
   "metadata": {},
   "outputs": [
    {
     "data": {
      "text/plain": [
       "1.0"
      ]
     },
     "execution_count": 65,
     "metadata": {},
     "output_type": "execute_result"
    }
   ],
   "source": [
    "logarithm(10; base=10)"
   ]
  },
  {
   "cell_type": "markdown",
   "id": "ab7d62c9-f433-4fdf-a273-fc17a6f9c086",
   "metadata": {},
   "source": [
    "#### 3.2.4.4 Anonymous Functions"
   ]
  },
  {
   "cell_type": "markdown",
   "id": "cba2ab6a-55f1-409e-a773-56de5578f565",
   "metadata": {},
   "source": [
    "Suppose we want to make a quick, throw away-type function. Anonymous functions are the answer. How do we use these things? This function will use `logarithm(2)` as `x` and evaluate `2.7182818284590^logarithm(2)`. "
   ]
  },
  {
   "cell_type": "code",
   "execution_count": 69,
   "id": "2da698ff-67f5-4362-b9b1-2435816a4d81",
   "metadata": {},
   "outputs": [
    {
     "data": {
      "text/plain": [
       "2.0"
      ]
     },
     "execution_count": 69,
     "metadata": {},
     "output_type": "execute_result"
    }
   ],
   "source": [
    "map(x -> 2.7182818284590^x, logarithm(2))"
   ]
  },
  {
   "cell_type": "code",
   "execution_count": 70,
   "id": "6a251e93-48f1-4753-ad21-43adb38ccbec",
   "metadata": {},
   "outputs": [
    {
     "data": {
      "text/plain": [
       "2.0"
      ]
     },
     "execution_count": 70,
     "metadata": {},
     "output_type": "execute_result"
    }
   ],
   "source": [
    "2.7182818284590^logarithm(2)"
   ]
  },
  {
   "cell_type": "markdown",
   "id": "db05fede-d6d2-4b2f-baf1-0eb588568cf1",
   "metadata": {},
   "source": [
    "### 3.2.5 Conditional If-Else-Elseif"
   ]
  },
  {
   "cell_type": "markdown",
   "id": "e66a6f0e-1ad6-47af-9e81-47f33b046b83",
   "metadata": {},
   "source": [
    "Typical behavior for `if`, `else`, and `elseif` conditional evaluations. If it wasn't typical, I'd quit this tutorial now. Here's the example. "
   ]
  },
  {
   "cell_type": "code",
   "execution_count": 75,
   "id": "8cbd16b1-32ef-496f-81eb-f172eba05fca",
   "metadata": {},
   "outputs": [
    {
     "data": {
      "text/plain": [
       "\"a is greater than b\""
      ]
     },
     "execution_count": 75,
     "metadata": {},
     "output_type": "execute_result"
    }
   ],
   "source": [
    "a = 5.0\n",
    "b = 4\n",
    "\n",
    "if a < b\n",
    "    \"a is less than b\"\n",
    "elseif a > b\n",
    "    \"a is greater than b\"\n",
    "else\n",
    "    \"a is equal to b\"\n",
    "end"
   ]
  },
  {
   "cell_type": "markdown",
   "id": "6ab24262-0e84-45eb-b0c3-7721853068e2",
   "metadata": {},
   "source": [
    "Same thing wrapped in a function, `compare`. "
   ]
  },
  {
   "cell_type": "code",
   "execution_count": 76,
   "id": "d891051c-63f1-4fc3-bec1-4588960789c2",
   "metadata": {},
   "outputs": [
    {
     "data": {
      "text/plain": [
       "compare (generic function with 1 method)"
      ]
     },
     "execution_count": 76,
     "metadata": {},
     "output_type": "execute_result"
    }
   ],
   "source": [
    "function compare(a, b)\n",
    "    if a < b\n",
    "        \"a is less than b\"\n",
    "    elseif a > b\n",
    "        \"a is greater than b\"\n",
    "    else\n",
    "        \"a is equal to b\"\n",
    "    end\n",
    "end"
   ]
  },
  {
   "cell_type": "code",
   "execution_count": 77,
   "id": "3c5816f0-b211-4500-86be-d531aec4b034",
   "metadata": {},
   "outputs": [
    {
     "data": {
      "text/plain": [
       "\"a is greater than b\""
      ]
     },
     "execution_count": 77,
     "metadata": {},
     "output_type": "execute_result"
    }
   ],
   "source": [
    "compare(5.0, 4)"
   ]
  },
  {
   "cell_type": "code",
   "execution_count": 78,
   "id": "14ba8fdd-18c4-46dc-a651-ffa3c51b85e2",
   "metadata": {},
   "outputs": [
    {
     "data": {
      "text/plain": [
       "\"a is less than b\""
      ]
     },
     "execution_count": 78,
     "metadata": {},
     "output_type": "execute_result"
    }
   ],
   "source": [
    "compare(4, 5)"
   ]
  },
  {
   "cell_type": "code",
   "execution_count": 79,
   "id": "ea79ec9a-f0cb-4718-b65b-11a525d109ac",
   "metadata": {},
   "outputs": [
    {
     "data": {
      "text/plain": [
       "\"a is equal to b\""
      ]
     },
     "execution_count": 79,
     "metadata": {},
     "output_type": "execute_result"
    }
   ],
   "source": [
    "compare(3.14, 3.14)"
   ]
  },
  {
   "cell_type": "markdown",
   "id": "2d4c0530-7cd7-498c-9fdd-7c08909dc741",
   "metadata": {},
   "source": [
    "### 3.2.6 For Loop"
   ]
  },
  {
   "cell_type": "markdown",
   "id": "d0a80231-4794-4211-831b-4f7686ad77e3",
   "metadata": {},
   "source": [
    "Again, for loops are straightforward too. "
   ]
  },
  {
   "cell_type": "code",
   "execution_count": 80,
   "id": "92461b5a-1c4f-4d7f-8482-4b04d6970bab",
   "metadata": {},
   "outputs": [
    {
     "name": "stdout",
     "output_type": "stream",
     "text": [
      "1\n",
      "2\n",
      "3\n",
      "4\n",
      "5\n",
      "6\n",
      "7\n",
      "8\n",
      "9\n",
      "10\n"
     ]
    }
   ],
   "source": [
    "for i in 1:10\n",
    "    println(i)\n",
    "end"
   ]
  },
  {
   "cell_type": "markdown",
   "id": "67a0c9ff-2bca-40af-bea6-800aa4d9b07d",
   "metadata": {},
   "source": [
    "### 3.2.7 While Loop"
   ]
  },
  {
   "cell_type": "markdown",
   "id": "fd3f6dfb-18ac-4118-b106-7cbc9909087f",
   "metadata": {},
   "source": [
    "Evaluate the stuff inside the loop while keyword (in this case, `n`) in the conditional statement evaluates to `true`. "
   ]
  },
  {
   "cell_type": "code",
   "execution_count": 83,
   "id": "657cc107-f6cc-4f5e-b7c8-5f87ff85cafe",
   "metadata": {},
   "outputs": [
    {
     "name": "stdout",
     "output_type": "stream",
     "text": [
      "0\n",
      "1\n",
      "2\n"
     ]
    }
   ],
   "source": [
    "n = 0\n",
    "\n",
    "while n < 3\n",
    "    println(n)\n",
    "    global n += 1\n",
    "end"
   ]
  },
  {
   "cell_type": "code",
   "execution_count": 84,
   "id": "a342c54d-1b4c-41b3-aa8b-6e07d4510f82",
   "metadata": {},
   "outputs": [
    {
     "data": {
      "text/plain": [
       "3"
      ]
     },
     "execution_count": 84,
     "metadata": {},
     "output_type": "execute_result"
    }
   ],
   "source": [
    "n"
   ]
  },
  {
   "cell_type": "markdown",
   "id": "8ddc14f2-5023-46b6-85bc-238c4fd8318d",
   "metadata": {},
   "source": [
    "Note the `global` keyword on the `n` within the loop. We add this because variables defined inside a loop (function, conditional expression) only exist within the loop. In this case, we are incrementing the `global n` and need the `while` loop to recognize that fact. "
   ]
  },
  {
   "cell_type": "markdown",
   "id": "6067e732-2ccd-47c9-ab1a-c4d3c72220f6",
   "metadata": {},
   "source": [
    "## 3.3 Native Data Structures"
   ]
  },
  {
   "cell_type": "markdown",
   "id": "a5c48b36-966f-4777-bf7c-6232dd6da32f",
   "metadata": {},
   "source": [
    "Crap, I forgot several sections from Chapter 3. I already moved on to Chapter 4 by completely neglecting sections 3.3, 3.4, and 3.5. I think that stuff might be useful for the later chapters. This stuff has been mo"
   ]
  },
  {
   "cell_type": "markdown",
   "id": "8e5d7687-1ee0-422a-a427-a7372f26a1ec",
   "metadata": {
    "tags": []
   },
   "source": [
    "## Main Takeaways"
   ]
  },
  {
   "cell_type": "markdown",
   "id": "f0f7928b-9460-4ee3-b01f-31525232742f",
   "metadata": {},
   "source": [
    "OK, what did I learn in this chapter? \n",
    "1. The `struct` object seems pretty powerful. Basically building up data objects with differing types of data is useful. Kind of reminds me of a tibble in R if we can have a `struct` of `struct`s. Maybe?  \n",
    "2. I'll try to work using the [Julia style guide(https://docs.julialang.org/en/v1/manual/style-guide/) as much as possible. However, I really don't like the camel case stuff, e.g. when defining a `struct`, but it is what it is. \n",
    "3. I like modifying the `Base.show` function to match the generic `struct` that was defined. \n",
    "4. Everything in the latter part of this notebook is pretty straightforward. Good stuff. "
   ]
  }
 ],
 "metadata": {
  "kernelspec": {
   "display_name": "Julia 1.8.4",
   "language": "julia",
   "name": "julia-1.8"
  },
  "language_info": {
   "file_extension": ".jl",
   "mimetype": "application/julia",
   "name": "julia",
   "version": "1.8.4"
  }
 },
 "nbformat": 4,
 "nbformat_minor": 5
}
