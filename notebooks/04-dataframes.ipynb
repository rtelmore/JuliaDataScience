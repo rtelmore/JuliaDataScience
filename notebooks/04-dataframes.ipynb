{
 "cells": [
  {
   "cell_type": "markdown",
   "id": "62ea72cf-faca-4702-a3b5-1ae5adb3a9b2",
   "metadata": {},
   "source": [
    "# Chapter Four: DataFrames"
   ]
  },
  {
   "cell_type": "code",
   "execution_count": 2,
   "id": "baf48581-03ef-4e13-a253-64e48554a680",
   "metadata": {},
   "outputs": [
    {
     "name": "stderr",
     "output_type": "stream",
     "text": [
      "\u001b[32m\u001b[1m  Activating\u001b[22m\u001b[39m project at `~/research/JuliaDataScience/notebooks/juliadatascience`\n"
     ]
    }
   ],
   "source": [
    "using Pkg\n",
    "Pkg.activate(\"juliadatascience\")"
   ]
  },
  {
   "cell_type": "markdown",
   "id": "9a65639b-8647-4225-ac3c-02ddcf0a7423",
   "metadata": {},
   "source": [
    "Before we begin, make sure you install the `DataFrames` package. From the Julia REPL, `using Pkg; Pkg.add(\"DataFrames\"`. I will load all packages that are used in a given chapter at the top of the notebook. "
   ]
  },
  {
   "cell_type": "code",
   "execution_count": 3,
   "id": "eee53ab4-8b1d-4587-86af-9b88e4e3134c",
   "metadata": {},
   "outputs": [],
   "source": [
    "using DataFrames"
   ]
  },
  {
   "cell_type": "markdown",
   "id": "21fca9f0-aad3-43b6-aa64-2e5e5a52523b",
   "metadata": {},
   "source": [
    "A note about `DataFrames.jl`. If you are an R person (like me), but want something similar to `dplyr` or `data.table`, here's a handy [website](https://dataframes.juliadata.org/latest/man/comparisons/#Comparison-with-the-R-package-dplyr) that compares those two packages with Julia's `DataFrames`. I think I'll be relying on that quite a bit. "
   ]
  },
  {
   "cell_type": "code",
   "execution_count": null,
   "id": "f0541216-73c5-4f4e-80cb-c632f67c5aff",
   "metadata": {},
   "outputs": [],
   "source": []
  }
 ],
 "metadata": {
  "kernelspec": {
   "display_name": "Julia 1.8.4",
   "language": "julia",
   "name": "julia-1.8"
  },
  "language_info": {
   "file_extension": ".jl",
   "mimetype": "application/julia",
   "name": "julia",
   "version": "1.8.4"
  }
 },
 "nbformat": 4,
 "nbformat_minor": 5
}
