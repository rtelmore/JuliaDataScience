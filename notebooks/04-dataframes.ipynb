{
 "cells": [
  {
   "cell_type": "markdown",
   "id": "62ea72cf-faca-4702-a3b5-1ae5adb3a9b2",
   "metadata": {},
   "source": [
    "# Chapter Four: DataFrames"
   ]
  },
  {
   "cell_type": "code",
   "execution_count": 1,
   "id": "baf48581-03ef-4e13-a253-64e48554a680",
   "metadata": {},
   "outputs": [
    {
     "name": "stderr",
     "output_type": "stream",
     "text": [
      "\u001b[32m\u001b[1m  Activating\u001b[22m\u001b[39m project at `~/research/JuliaDataScience/notebooks/juliadatascience`\n"
     ]
    }
   ],
   "source": [
    "using Pkg\n",
    "Pkg.activate(\"juliadatascience\")"
   ]
  },
  {
   "cell_type": "markdown",
   "id": "9a65639b-8647-4225-ac3c-02ddcf0a7423",
   "metadata": {},
   "source": [
    "Before we begin, make sure you install the `DataFrames` package. From the Julia REPL, `using Pkg; Pkg.add(\"DataFrames\"`. I will load all packages that are used in a given chapter at the top of the notebook. "
   ]
  },
  {
   "cell_type": "code",
   "execution_count": 2,
   "id": "eee53ab4-8b1d-4587-86af-9b88e4e3134c",
   "metadata": {},
   "outputs": [],
   "source": [
    "using DataFrames"
   ]
  },
  {
   "cell_type": "markdown",
   "id": "21fca9f0-aad3-43b6-aa64-2e5e5a52523b",
   "metadata": {},
   "source": [
    "A note about `DataFrames.jl`. If you are an R person (like me), but want something similar to `dplyr` or `data.table`, here's a handy [website](https://dataframes.juliadata.org/latest/man/comparisons/#Comparison-with-the-R-package-dplyr) that compares those two packages with Julia's `DataFrames`. I think I'll be relying on that quite a bit. I think there is a `Pandas` package as well (or, I know there is) if you prefer that API, but I think the `DataFrames` package is used more often in Julia. "
   ]
  },
  {
   "cell_type": "markdown",
   "id": "fd763b40-7a72-4be6-a671-4ee7b80e4c16",
   "metadata": {},
   "source": [
    "Let's consider an example using base Julia functionality. "
   ]
  },
  {
   "cell_type": "code",
   "execution_count": 3,
   "id": "9b53edba-3080-4be6-a32b-18e71d3a66ac",
   "metadata": {},
   "outputs": [
    {
     "data": {
      "text/plain": [
       "grades_array (generic function with 1 method)"
      ]
     },
     "execution_count": 3,
     "metadata": {},
     "output_type": "execute_result"
    }
   ],
   "source": [
    "function grades_array()\n",
    "    name = [\"Bob\", \"Sally\", \"Alice\", \"Hank\"]\n",
    "    age = [17, 18, 20, 19]\n",
    "    grade_2020 = [5.0, 1.0, 8.5, 4.0]\n",
    "    (; name, age, grade_2020)\n",
    "end"
   ]
  },
  {
   "cell_type": "markdown",
   "id": "614769ea-1da0-4613-945a-0a808c257bac",
   "metadata": {},
   "source": [
    "How do we access the individual columns?"
   ]
  },
  {
   "cell_type": "code",
   "execution_count": 4,
   "id": "c75fc188-6990-46e0-a5df-94344a89c245",
   "metadata": {},
   "outputs": [
    {
     "data": {
      "text/plain": [
       "4-element Vector{Int64}:\n",
       " 17\n",
       " 18\n",
       " 20\n",
       " 19"
      ]
     },
     "execution_count": 4,
     "metadata": {},
     "output_type": "execute_result"
    }
   ],
   "source": [
    "grades_array().age"
   ]
  },
  {
   "cell_type": "code",
   "execution_count": 5,
   "id": "c73081da-bd43-427c-9f39-f761018e9005",
   "metadata": {},
   "outputs": [
    {
     "data": {
      "text/plain": [
       "4-element Vector{Float64}:\n",
       " 5.0\n",
       " 1.0\n",
       " 8.5\n",
       " 4.0"
      ]
     },
     "execution_count": 5,
     "metadata": {},
     "output_type": "execute_result"
    }
   ],
   "source": [
    "grades_array().grade_2020"
   ]
  },
  {
   "cell_type": "markdown",
   "id": "8153562b-11ff-47c9-a934-a2f79cff856e",
   "metadata": {
    "tags": []
   },
   "source": [
    "Suppose we want a function to extract the second row of the `grades_array()`. "
   ]
  },
  {
   "cell_type": "code",
   "execution_count": 6,
   "id": "f811609c-6a14-4806-a040-3e66c7d88a9b",
   "metadata": {},
   "outputs": [
    {
     "data": {
      "text/plain": [
       "second_row (generic function with 1 method)"
      ]
     },
     "execution_count": 6,
     "metadata": {},
     "output_type": "execute_result"
    }
   ],
   "source": [
    "function second_row()\n",
    "    name, age, grade_2020 = grades_array()\n",
    "    i = 2\n",
    "    row = (name[i], age[i], grade_2020[i])\n",
    "end"
   ]
  },
  {
   "cell_type": "code",
   "execution_count": 7,
   "id": "d2f39483-8233-4729-87ea-c7b15761b6d0",
   "metadata": {},
   "outputs": [
    {
     "data": {
      "text/plain": [
       "(\"Sally\", 18, 1.0)"
      ]
     },
     "execution_count": 7,
     "metadata": {},
     "output_type": "execute_result"
    }
   ],
   "source": [
    "second_row()"
   ]
  },
  {
   "cell_type": "markdown",
   "id": "864b4021-4534-4687-8c9a-06a194592b7f",
   "metadata": {
    "tags": []
   },
   "source": [
    "Or how about the row with Alice? We need to find the row that contains Alice and then extract that row. "
   ]
  },
  {
   "cell_type": "code",
   "execution_count": 8,
   "id": "3be6a44c-f68a-4eb0-8856-158333ce0a56",
   "metadata": {},
   "outputs": [
    {
     "data": {
      "text/plain": [
       "3"
      ]
     },
     "execution_count": 8,
     "metadata": {},
     "output_type": "execute_result"
    }
   ],
   "source": [
    "function row_alice()\n",
    "    names = grades_array().name\n",
    "    i = findfirst(names .== \"Alice\")\n",
    "end\n",
    "row_alice()"
   ]
  },
  {
   "cell_type": "code",
   "execution_count": null,
   "id": "5c384a6a-b81a-43e0-94ad-fb5b80cbe451",
   "metadata": {},
   "outputs": [],
   "source": []
  }
 ],
 "metadata": {
  "kernelspec": {
   "display_name": "Julia 1.8.4",
   "language": "julia",
   "name": "julia-1.8"
  },
  "language_info": {
   "file_extension": ".jl",
   "mimetype": "application/julia",
   "name": "julia",
   "version": "1.8.4"
  }
 },
 "nbformat": 4,
 "nbformat_minor": 5
}
