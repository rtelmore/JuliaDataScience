{
 "cells": [
  {
   "cell_type": "markdown",
   "id": "62ea72cf-faca-4702-a3b5-1ae5adb3a9b2",
   "metadata": {},
   "source": [
    "# Chapter Four: DataFrames"
   ]
  },
  {
   "cell_type": "code",
   "execution_count": 1,
   "id": "baf48581-03ef-4e13-a253-64e48554a680",
   "metadata": {},
   "outputs": [
    {
     "name": "stderr",
     "output_type": "stream",
     "text": [
      "\u001b[32m\u001b[1m  Activating\u001b[22m\u001b[39m project at `~/research/JuliaDataScience/notebooks/juliadatascience`\n"
     ]
    }
   ],
   "source": [
    "using Pkg\n",
    "Pkg.activate(\"juliadatascience\")"
   ]
  },
  {
   "cell_type": "markdown",
   "id": "9a65639b-8647-4225-ac3c-02ddcf0a7423",
   "metadata": {},
   "source": [
    "Before we begin, make sure you install the `DataFrames` package. From the Julia REPL, `using Pkg; Pkg.add(\"DataFrames\"`."
   ]
  },
  {
   "cell_type": "code",
   "execution_count": null,
   "id": "eee53ab4-8b1d-4587-86af-9b88e4e3134c",
   "metadata": {},
   "outputs": [],
   "source": []
  }
 ],
 "metadata": {
  "kernelspec": {
   "display_name": "Julia 1.8.4",
   "language": "julia",
   "name": "julia-1.8"
  },
  "language_info": {
   "file_extension": ".jl",
   "mimetype": "application/julia",
   "name": "julia",
   "version": "1.8.4"
  }
 },
 "nbformat": 4,
 "nbformat_minor": 5
}
