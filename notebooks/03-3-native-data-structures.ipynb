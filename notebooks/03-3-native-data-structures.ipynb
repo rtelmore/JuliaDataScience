{
 "cells": [
  {
   "cell_type": "markdown",
   "id": "92da8734-9249-47be-a0f1-65f0d3cbdc1a",
   "metadata": {},
   "source": [
    "#  Chapter Three: Basics\n",
    "## 3.3: Native Data Structures"
   ]
  },
  {
   "cell_type": "markdown",
   "id": "0c2935f4-57fe-4899-8186-2f33a6e2ea47",
   "metadata": {},
   "source": [
    "This section is long and deserves its own notebook. And it's important -- it's about data. [Take that for data!](https://www.youtube.com/watch?v=dfuVdja6lDU) "
   ]
  },
  {
   "cell_type": "code",
   "execution_count": 1,
   "id": "52bc5411-64c0-425c-b3df-1e102f604ce1",
   "metadata": {},
   "outputs": [
    {
     "name": "stderr",
     "output_type": "stream",
     "text": [
      "\u001b[32m\u001b[1m  Activating\u001b[22m\u001b[39m project at `~/research/JuliaDataScience/notebooks/juliadatascience`\n"
     ]
    }
   ],
   "source": [
    "using Pkg\n",
    "Pkg.activate(\"juliadatascience\")"
   ]
  },
  {
   "cell_type": "markdown",
   "id": "45ac955c-3603-492a-8d6e-474eda244cde",
   "metadata": {},
   "source": [
    "Computing languages have many different data structures, e.g. strings, lists, etc. Julia is no different. The specific data structures that we'll look at in this notebook are `String`, `Tuple`, `NamedTuple`, `UnitRange`, `Arrays`, `Pair`, `Dict`, `Symbol`. Some of these types might look familiar and some may not. Don't worry, Ryan, we'll figure it out. As I mentioend previously [(in Chapter Three notebook)](https://github.com/rtelmore/JuliaDataScience/blob/main/notebooks/03-julia-basics.ipynb), the `methodswith` function is super handy. Check out the first five methods that operate on `String`."
   ]
  },
  {
   "cell_type": "code",
   "execution_count": 2,
   "id": "b5e084d8-cc70-4e5e-84f3-57118f11b309",
   "metadata": {},
   "outputs": [
    {
     "data": {
      "text/html": [
       "5-element Vector{Method}:<ul><li> String(s::<b>String</b>) in Core at <a href=\"file:///Applications/Julia-1.8.app/Contents/Resources/julia/share/julia/base/boot.jl\" target=\"_blank\">boot.jl:358</a><li> Symbol(s::<b>String</b>) in Core at <a href=\"file:///Applications/Julia-1.8.app/Contents/Resources/julia/share/julia/base/boot.jl\" target=\"_blank\">boot.jl:489</a><li> ==(a::<b>String</b>, b::<b>String</b>) in Base at <a href=\"https://github.com/JuliaLang/julia/tree/00177ebc4fcadaaa37c4c2cbca2f9db75ba4d8e3/base/strings/string.jl#L122\" target=\"_blank\">strings/string.jl:122</a><li> ==(a::<b>Union{SubString{String}, String}</b>, b::<b>Union{SubString{String}, String}</b>) in Base at <a href=\"https://github.com/JuliaLang/julia/tree/00177ebc4fcadaaa37c4c2cbca2f9db75ba4d8e3/base/strings/substring.jl#L107\" target=\"_blank\">strings/substring.jl:107</a><li> CanonicalIndexError(func::<b>String</b>, type) in Base at <a href=\"https://github.com/JuliaLang/julia/tree/00177ebc4fcadaaa37c4c2cbca2f9db75ba4d8e3/base/abstractarray.jl#L1255\" target=\"_blank\">abstractarray.jl:1255</a></ul>"
      ],
      "text/plain": [
       "[1] String(s::String) in Core at boot.jl:358\n",
       "[2] Symbol(s::String) in Core at boot.jl:489\n",
       "[3] ==(a::String, b::String) in Base at strings/string.jl:122\n",
       "[4] ==(a::Union{SubString{String}, String}, b::Union{SubString{String}, String}) in Base at strings/substring.jl:107\n",
       "[5] CanonicalIndexError(func::String, type) in Base at abstractarray.jl:1255"
      ]
     },
     "execution_count": 2,
     "metadata": {},
     "output_type": "execute_result"
    }
   ],
   "source": [
    "first(methodswith(String), 5)"
   ]
  },
  {
   "cell_type": "markdown",
   "id": "eae30746-b6aa-495b-ab45-0c0ed54a0cc0",
   "metadata": {},
   "source": [
    "### 3.3.1: Broadcasting Operators and Functions"
   ]
  },
  {
   "cell_type": "markdown",
   "id": "250ba421-ad5f-4c10-b9cc-7d66faef23e6",
   "metadata": {},
   "source": [
    "If you are familiar with R, you'll know that vectorization is an important concent for speeding up your code. The same is here in Julia, but it's called **broadcasting**. Vectorization is achieved in Julia using the dot operator (`.`). Look at a vectorized addition on a vector using `.+`. And what happens is we just try adding one to the vector."
   ]
  },
  {
   "cell_type": "code",
   "execution_count": 3,
   "id": "06ed0f6b-1b03-45c1-94c1-38ffb269e0f3",
   "metadata": {},
   "outputs": [
    {
     "data": {
      "text/plain": [
       "3-element Vector{Int64}:\n",
       " 2\n",
       " 3\n",
       " 6"
      ]
     },
     "execution_count": 3,
     "metadata": {},
     "output_type": "execute_result"
    }
   ],
   "source": [
    "[1, 2, 5] .+ 1"
   ]
  },
  {
   "cell_type": "code",
   "execution_count": 4,
   "id": "72b763fb-9895-4ce2-939f-44eeee6175ca",
   "metadata": {},
   "outputs": [
    {
     "ename": "LoadError",
     "evalue": "MethodError: no method matching +(::Vector{Int64}, ::Int64)\nFor element-wise addition, use broadcasting with dot syntax: array .+ scalar\n\u001b[0mClosest candidates are:\n\u001b[0m  +(::Any, ::Any, \u001b[91m::Any\u001b[39m, \u001b[91m::Any...\u001b[39m) at operators.jl:591\n\u001b[0m  +(\u001b[91m::T\u001b[39m, ::T) where T<:Union{Int128, Int16, Int32, Int64, Int8, UInt128, UInt16, UInt32, UInt64, UInt8} at int.jl:87\n\u001b[0m  +(\u001b[91m::Base.TwicePrecision\u001b[39m, ::Number) at twiceprecision.jl:290\n\u001b[0m  ...",
     "output_type": "error",
     "traceback": [
      "MethodError: no method matching +(::Vector{Int64}, ::Int64)\nFor element-wise addition, use broadcasting with dot syntax: array .+ scalar\n\u001b[0mClosest candidates are:\n\u001b[0m  +(::Any, ::Any, \u001b[91m::Any\u001b[39m, \u001b[91m::Any...\u001b[39m) at operators.jl:591\n\u001b[0m  +(\u001b[91m::T\u001b[39m, ::T) where T<:Union{Int128, Int16, Int32, Int64, Int8, UInt128, UInt16, UInt32, UInt64, UInt8} at int.jl:87\n\u001b[0m  +(\u001b[91m::Base.TwicePrecision\u001b[39m, ::Number) at twiceprecision.jl:290\n\u001b[0m  ...",
      "",
      "Stacktrace:",
      " [1] top-level scope",
      "   @ In[4]:1"
     ]
    }
   ],
   "source": [
    "[1, 2, 5] + 1"
   ]
  },
  {
   "cell_type": "markdown",
   "id": "c016faac-18f8-4825-b728-51e577e6503d",
   "metadata": {},
   "source": [
    "D'oh, we get an error. "
   ]
  },
  {
   "cell_type": "markdown",
   "id": "624aaf1b-24dc-45ff-af2e-7838bb108044",
   "metadata": {},
   "source": [
    "We can use these vectorization operations on our own functions as well. Consider the `logarithm` function that we used in the first part of this tutorial. You can load it in by calling the `include` function on a file I added to the repo, `03-functions.jl`. Note that I will add the functions from each chapter into their own `chapternumber-functions.jl` file. "
   ]
  },
  {
   "cell_type": "code",
   "execution_count": 5,
   "id": "d7b1e485-abf7-4f39-b072-0271f7e546f7",
   "metadata": {},
   "outputs": [
    {
     "data": {
      "text/plain": [
       "compare_interpolate (generic function with 1 method)"
      ]
     },
     "execution_count": 5,
     "metadata": {},
     "output_type": "execute_result"
    }
   ],
   "source": [
    "include(\"03-functions.jl\")"
   ]
  },
  {
   "cell_type": "code",
   "execution_count": 6,
   "id": "38632333-8025-48a9-b974-bb7dc6607be0",
   "metadata": {},
   "outputs": [
    {
     "data": {
      "text/plain": [
       "3-element Vector{Float64}:\n",
       " 0.0\n",
       " 0.6931471805599569\n",
       " 1.0986122886681282"
      ]
     },
     "execution_count": 6,
     "metadata": {},
     "output_type": "execute_result"
    }
   ],
   "source": [
    "logarithm.([1, 2, 3])"
   ]
  },
  {
   "cell_type": "markdown",
   "id": "0004d244-04c7-4d03-8b62-60ae4dd04fa9",
   "metadata": {},
   "source": [
    "### 3.3.2: Functions with a bang !"
   ]
  },
  {
   "cell_type": "markdown",
   "id": "0db6b77f-9069-42fc-b0fc-92ea74921fad",
   "metadata": {
    "tags": []
   },
   "source": [
    "It's common in Julia to append an exclamation point (a bang, or `!`) to function names that modify the function's arguments. Consider the follwing function. "
   ]
  },
  {
   "cell_type": "code",
   "execution_count": 7,
   "id": "8127c32e-f3cf-4ec5-be5f-7acfefc1fb06",
   "metadata": {},
   "outputs": [
    {
     "data": {
      "text/plain": [
       "add_one! (generic function with 1 method)"
      ]
     },
     "execution_count": 7,
     "metadata": {},
     "output_type": "execute_result"
    }
   ],
   "source": [
    "function add_one!(V)\n",
    "    for i in eachindex(V)\n",
    "        V[i] += 1\n",
    "    end\n",
    "    return nothing\n",
    "end"
   ]
  },
  {
   "cell_type": "markdown",
   "id": "ff6a6906-ae27-4888-b290-514dcd3db3d0",
   "metadata": {},
   "source": [
    "This function will add one to each element of the vector that is input into the function itself. Define a vector and use the `add_one!` function on this vector. "
   ]
  },
  {
   "cell_type": "code",
   "execution_count": 8,
   "id": "56fe9b46-153a-461d-b9ef-90632aa16840",
   "metadata": {},
   "outputs": [],
   "source": [
    "my_data = [1, 2, 3]\n",
    "add_one!(my_data)"
   ]
  },
  {
   "cell_type": "code",
   "execution_count": 9,
   "id": "0680bb56-ee65-4540-a296-930eca59dc69",
   "metadata": {},
   "outputs": [
    {
     "data": {
      "text/plain": [
       "3-element Vector{Int64}:\n",
       " 2\n",
       " 3\n",
       " 4"
      ]
     },
     "execution_count": 9,
     "metadata": {},
     "output_type": "execute_result"
    }
   ],
   "source": [
    "my_data"
   ]
  },
  {
   "cell_type": "markdown",
   "id": "2018d8cf-f8b3-4205-a699-5b276523df47",
   "metadata": {},
   "source": [
    "### Strings"
   ]
  },
  {
   "cell_type": "markdown",
   "id": "b5e62c24-a0e9-4a01-8dbd-b6b166e2a857",
   "metadata": {},
   "source": [
    "Everyone knows that strings are part of life as a data scientist. You need to know how to work with them. Strings can be defined using double quotes, double quotes on multiple lines, or a series of three double quotes (similar to python, IIRC). Examples:"
   ]
  },
  {
   "cell_type": "code",
   "execution_count": 10,
   "id": "4e09f5e9-f1f3-4ab9-840d-3811f8214006",
   "metadata": {},
   "outputs": [
    {
     "data": {
      "text/plain": [
       "String"
      ]
     },
     "execution_count": 10,
     "metadata": {},
     "output_type": "execute_result"
    }
   ],
   "source": [
    "typeof(\"Here be a string\")"
   ]
  },
  {
   "cell_type": "code",
   "execution_count": 11,
   "id": "a905bd6b-924d-4231-bc31-616083510628",
   "metadata": {},
   "outputs": [
    {
     "data": {
      "text/plain": [
       "\"\\nThis is a big multiline string.\\nAs you can see.\\nIt is still a String to Julia.\\n\""
      ]
     },
     "execution_count": 11,
     "metadata": {},
     "output_type": "execute_result"
    }
   ],
   "source": [
    "text = \"\n",
    "This is a big multiline string.\n",
    "As you can see.\n",
    "It is still a String to Julia.\n",
    "\""
   ]
  },
  {
   "cell_type": "code",
   "execution_count": 12,
   "id": "b60fe05b-a55c-441b-92bf-336e5148b395",
   "metadata": {},
   "outputs": [
    {
     "data": {
      "text/plain": [
       "\"This is a big multiline string with a nested \\\"quotation\\\".\\nAs you can see.\\nIt is still a String to Julia.\\n\""
      ]
     },
     "execution_count": 12,
     "metadata": {},
     "output_type": "execute_result"
    }
   ],
   "source": [
    "s = \"\"\"\n",
    "    This is a big multiline string with a nested \"quotation\".\n",
    "    As you can see.\n",
    "    It is still a String to Julia.\n",
    "    \"\"\""
   ]
  },
  {
   "cell_type": "markdown",
   "id": "a7871905-b121-4a6f-866e-7c51ae7b7f73",
   "metadata": {},
   "source": [
    "Note that these strings don't look as awesome in the notebook as if they were printed in the Julia REPL."
   ]
  },
  {
   "cell_type": "markdown",
   "id": "aeb44f84-cd89-4c85-ae98-207a795fc6be",
   "metadata": {},
   "source": [
    "#### String Concatenation"
   ]
  },
  {
   "cell_type": "markdown",
   "id": "a8c2c539-1b6e-4907-9cc4-41248486b2f2",
   "metadata": {},
   "source": [
    "How do we put strings together, i.e. concatenate the strings? I'll be honest, this is a strange one for me. You can use either the `*` or `join` functions. Say what? Yep, here goes. "
   ]
  },
  {
   "cell_type": "code",
   "execution_count": 13,
   "id": "0d07d82a-84af-407e-9ca8-089415872196",
   "metadata": {},
   "outputs": [
    {
     "data": {
      "text/plain": [
       "\"HelloGoodbye\""
      ]
     },
     "execution_count": 13,
     "metadata": {},
     "output_type": "execute_result"
    }
   ],
   "source": [
    "hello = \"Hello\"\n",
    "goodbye = \"Goodbye\"\n",
    "hello * goodbye"
   ]
  },
  {
   "cell_type": "code",
   "execution_count": 14,
   "id": "916e8ac4-0557-44b1-ac44-d18f7ac49a86",
   "metadata": {},
   "outputs": [
    {
     "data": {
      "text/plain": [
       "\"Hello Goodbye\""
      ]
     },
     "execution_count": 14,
     "metadata": {},
     "output_type": "execute_result"
    }
   ],
   "source": [
    "hello * \" \" * goodbye"
   ]
  },
  {
   "cell_type": "markdown",
   "id": "9c873ded-e286-4781-b3c2-09ef249ca909",
   "metadata": {},
   "source": [
    "What in the sam hell is going on here? This looks nutty. You can do this with `join` as well. Still a little weird though."
   ]
  },
  {
   "cell_type": "code",
   "execution_count": 15,
   "id": "6df86f05-76d9-45d2-931d-aa74351867f7",
   "metadata": {},
   "outputs": [
    {
     "data": {
      "text/plain": [
       "\"Hello Goodbye\""
      ]
     },
     "execution_count": 15,
     "metadata": {},
     "output_type": "execute_result"
    }
   ],
   "source": [
    "join([hello, goodbye], \" \")"
   ]
  },
  {
   "cell_type": "markdown",
   "id": "350dbed2-804d-4f5d-8177-71caeda1efc5",
   "metadata": {},
   "source": [
    "I'm not sure which I like better. I'll probably use the asterisk, but we'll see. "
   ]
  },
  {
   "cell_type": "markdown",
   "id": "a8a80438-f33a-474b-8fd5-1323d6e18915",
   "metadata": {},
   "source": [
    "#### String Interpolation"
   ]
  },
  {
   "cell_type": "markdown",
   "id": "6ab39fc6-1d72-4ec7-a4d3-5e867d2df38c",
   "metadata": {},
   "source": [
    "I'm not sure I've ever heard this phrase before, but I've used it quite often in both python and R. Basically, it's where you want to insert a string into another string as a variable. "
   ]
  },
  {
   "cell_type": "code",
   "execution_count": 16,
   "id": "6d99aaa8-59bc-4f6e-9347-88d6d319f914",
   "metadata": {},
   "outputs": [
    {
     "data": {
      "text/plain": [
       "\"Hello Goodbye\""
      ]
     },
     "execution_count": 16,
     "metadata": {},
     "output_type": "execute_result"
    }
   ],
   "source": [
    "\"$hello $goodbye\""
   ]
  },
  {
   "cell_type": "markdown",
   "id": "cb27f870-210a-42ff-933b-b6496b63f91b",
   "metadata": {},
   "source": [
    "String interpolation works inside functions as well. This is super cool. Recall the `compare()` function that was defined previously. "
   ]
  },
  {
   "cell_type": "code",
   "execution_count": 17,
   "id": "cda39ac4-3d1c-476d-864e-e6bc0e74294c",
   "metadata": {},
   "outputs": [
    {
     "data": {
      "text/plain": [
       "compare_interpolate (generic function with 1 method)"
      ]
     },
     "execution_count": 17,
     "metadata": {},
     "output_type": "execute_result"
    }
   ],
   "source": [
    "function compare_interpolate(a, b)\n",
    "    if a < b\n",
    "        \"$a is less than $b\"\n",
    "    elseif a > b\n",
    "        \"$a is greater than $b\"\n",
    "    else\n",
    "        \"$a is equal to $b\"\n",
    "    end\n",
    "end"
   ]
  },
  {
   "cell_type": "code",
   "execution_count": 18,
   "id": "6c52c682-352a-4c66-bf13-822aeb8e0441",
   "metadata": {},
   "outputs": [
    {
     "data": {
      "text/plain": [
       "\"1 is less than 5\""
      ]
     },
     "execution_count": 18,
     "metadata": {},
     "output_type": "execute_result"
    }
   ],
   "source": [
    "compare_interpolate(1, 5)"
   ]
  },
  {
   "cell_type": "code",
   "execution_count": 19,
   "id": "3d4f11d3-1d34-4994-943e-07e4beb14ce4",
   "metadata": {},
   "outputs": [
    {
     "data": {
      "text/plain": [
       "\"3.14 is equal to 3.14\""
      ]
     },
     "execution_count": 19,
     "metadata": {},
     "output_type": "execute_result"
    }
   ],
   "source": [
    "compare_interpolate(3.14, 3.14)"
   ]
  },
  {
   "cell_type": "code",
   "execution_count": 20,
   "id": "490db242-46f0-4bb0-8f46-7e30f265f77a",
   "metadata": {},
   "outputs": [
    {
     "data": {
      "text/plain": [
       "\"3.141 is greater than 3.14\""
      ]
     },
     "execution_count": 20,
     "metadata": {},
     "output_type": "execute_result"
    }
   ],
   "source": [
    "compare_interpolate(3.141, 3.14)"
   ]
  },
  {
   "cell_type": "markdown",
   "id": "cd542cd1-6a05-4a3d-89ba-4d264a75c8fe",
   "metadata": {},
   "source": [
    "#### 3.3.3.3 String Manipulations"
   ]
  },
  {
   "cell_type": "markdown",
   "id": "b18c1259-2b84-4769-9fb3-3bafb6834365",
   "metadata": {},
   "source": [
    "I went down the regex wormhole the other day and, damn, what a hole that is. In any case, fortunately we aren't going to explore them here. Of course, you're welcome to use them in Julia, but they have some other friendly functions to make string manipulations a little easier (than regex). First, we are going to define a string and start working. "
   ]
  },
  {
   "cell_type": "code",
   "execution_count": 21,
   "id": "68e524cc-47d6-44a0-9a9f-7765a79c378c",
   "metadata": {},
   "outputs": [
    {
     "data": {
      "text/plain": [
       "\"Julia is an amazing open source programming language\""
      ]
     },
     "execution_count": 21,
     "metadata": {},
     "output_type": "execute_result"
    }
   ],
   "source": [
    "julia_string = \"Julia is an amazing open source programming language\""
   ]
  },
  {
   "cell_type": "markdown",
   "id": "c3785b12-393f-4700-9f7e-26fb9bdc41b9",
   "metadata": {},
   "source": [
    "Let's look at `contains`, `startswith`, and `endswith` functions."
   ]
  },
  {
   "cell_type": "code",
   "execution_count": 22,
   "id": "a058a853-6de0-4568-9c3d-074963601bea",
   "metadata": {},
   "outputs": [
    {
     "data": {
      "text/plain": [
       "true"
      ]
     },
     "execution_count": 22,
     "metadata": {},
     "output_type": "execute_result"
    }
   ],
   "source": [
    "contains(julia_string, \"amazing\")"
   ]
  },
  {
   "cell_type": "code",
   "execution_count": 23,
   "id": "c67c23e5-007d-490a-8012-b780395bd6a9",
   "metadata": {},
   "outputs": [
    {
     "data": {
      "text/plain": [
       "true"
      ]
     },
     "execution_count": 23,
     "metadata": {},
     "output_type": "execute_result"
    }
   ],
   "source": [
    "startswith(julia_string, \"Julia\")"
   ]
  },
  {
   "cell_type": "code",
   "execution_count": 24,
   "id": "dbf42394-2bdc-4488-a42e-19f20ff1d291",
   "metadata": {},
   "outputs": [
    {
     "data": {
      "text/plain": [
       "false"
      ]
     },
     "execution_count": 24,
     "metadata": {},
     "output_type": "execute_result"
    }
   ],
   "source": [
    "startswith(julia_string, \"source\")"
   ]
  },
  {
   "cell_type": "code",
   "execution_count": 25,
   "id": "7dc1f8b4-52bd-403e-b038-71304f3ae2f0",
   "metadata": {},
   "outputs": [
    {
     "data": {
      "text/plain": [
       "false"
      ]
     },
     "execution_count": 25,
     "metadata": {},
     "output_type": "execute_result"
    }
   ],
   "source": [
    "endswith(julia_string, \"Julia\")"
   ]
  },
  {
   "cell_type": "code",
   "execution_count": 26,
   "id": "1695bef9-1811-4d8c-b956-ca633a70eade",
   "metadata": {},
   "outputs": [
    {
     "data": {
      "text/plain": [
       "true"
      ]
     },
     "execution_count": 26,
     "metadata": {},
     "output_type": "execute_result"
    }
   ],
   "source": [
    "endswith(julia_string, \"language\")"
   ]
  },
  {
   "cell_type": "code",
   "execution_count": 27,
   "id": "3bad4fcc-eb98-44d5-b7c0-e9c961f7427d",
   "metadata": {},
   "outputs": [
    {
     "data": {
      "text/plain": [
       "true"
      ]
     },
     "execution_count": 27,
     "metadata": {},
     "output_type": "execute_result"
    }
   ],
   "source": [
    "endswith(julia_string, \"guage\")"
   ]
  },
  {
   "cell_type": "markdown",
   "id": "a05176e5-6abc-4a08-a812-b2aa04544a2e",
   "metadata": {},
   "source": [
    "How about making strings into different cases, e.g. lower to upper, etc. "
   ]
  },
  {
   "cell_type": "code",
   "execution_count": 28,
   "id": "ef695c53-6200-4676-9315-424e1ebcfb5f",
   "metadata": {},
   "outputs": [
    {
     "data": {
      "text/plain": [
       "\"julia is an amazing open source programming language\""
      ]
     },
     "execution_count": 28,
     "metadata": {},
     "output_type": "execute_result"
    }
   ],
   "source": [
    "lowercase(julia_string)"
   ]
  },
  {
   "cell_type": "code",
   "execution_count": 29,
   "id": "abe1a3db-15f3-4f4c-afc1-be4787abc223",
   "metadata": {},
   "outputs": [
    {
     "data": {
      "text/plain": [
       "\"JULIA IS AN AMAZING OPEN SOURCE PROGRAMMING LANGUAGE\""
      ]
     },
     "execution_count": 29,
     "metadata": {},
     "output_type": "execute_result"
    }
   ],
   "source": [
    "uppercase(julia_string)"
   ]
  },
  {
   "cell_type": "code",
   "execution_count": 30,
   "id": "afc66a5a-85ab-43eb-891d-528d5c23b0cd",
   "metadata": {},
   "outputs": [
    {
     "data": {
      "text/plain": [
       "\"Julia Is An Amazing Open Source Programming Language\""
      ]
     },
     "execution_count": 30,
     "metadata": {},
     "output_type": "execute_result"
    }
   ],
   "source": [
    "titlecase(julia_string)"
   ]
  },
  {
   "cell_type": "code",
   "execution_count": 31,
   "id": "a32803b8-8dd6-4e08-a438-64b0730f1649",
   "metadata": {},
   "outputs": [
    {
     "data": {
      "text/plain": [
       "\"Julia is an amazing open source programming language\""
      ]
     },
     "execution_count": 31,
     "metadata": {},
     "output_type": "execute_result"
    }
   ],
   "source": [
    "uppercasefirst(\"julia is an amazing open source programming language\")"
   ]
  },
  {
   "cell_type": "markdown",
   "id": "e8f75fd0-1bf9-4a84-8dc1-02924d3e9152",
   "metadata": {},
   "source": [
    "We can replace strings within strings using the `replace` function. Note that we have to a new structure called the `pair`. "
   ]
  },
  {
   "cell_type": "code",
   "execution_count": 32,
   "id": "0fb053af-bfcb-4f57-a7db-021de4079a32",
   "metadata": {},
   "outputs": [
    {
     "data": {
      "text/plain": [
       "\"Julia is an awesome open source programming language\""
      ]
     },
     "execution_count": 32,
     "metadata": {},
     "output_type": "execute_result"
    }
   ],
   "source": [
    "replace(julia_string, \"amazing\" => \"awesome\")"
   ]
  },
  {
   "cell_type": "code",
   "execution_count": 33,
   "id": "2cf11c96-3a50-402c-b0a4-0670f09c31d6",
   "metadata": {},
   "outputs": [
    {
     "data": {
      "text/plain": [
       "\"Julia is an amazing open source programming language\""
      ]
     },
     "execution_count": 33,
     "metadata": {},
     "output_type": "execute_result"
    }
   ],
   "source": [
    "julia_string"
   ]
  },
  {
   "cell_type": "markdown",
   "id": "d3b5253b-dbbf-4c9e-8345-e37a1a472403",
   "metadata": {},
   "source": [
    "And finally we can split strings using the `split` function. "
   ]
  },
  {
   "cell_type": "code",
   "execution_count": 34,
   "id": "c2efe7a0-b815-45e3-8108-d097f6140fa6",
   "metadata": {},
   "outputs": [
    {
     "data": {
      "text/plain": [
       "8-element Vector{SubString{String}}:\n",
       " \"Julia\"\n",
       " \"is\"\n",
       " \"an\"\n",
       " \"amazing\"\n",
       " \"open\"\n",
       " \"source\"\n",
       " \"programming\"\n",
       " \"language\""
      ]
     },
     "execution_count": 34,
     "metadata": {},
     "output_type": "execute_result"
    }
   ],
   "source": [
    "split(julia_string, \" \")"
   ]
  },
  {
   "cell_type": "markdown",
   "id": "70726d60-d6f6-4369-a84d-a485be6a7ed1",
   "metadata": {},
   "source": [
    "#### 3.3.3.4 String Conversions"
   ]
  },
  {
   "cell_type": "markdown",
   "id": "61fb22d9-05d6-467a-921f-27fba4bcb8da",
   "metadata": {},
   "source": [
    "Converting from string to number and vice versa. "
   ]
  },
  {
   "cell_type": "code",
   "execution_count": 35,
   "id": "3a70ae5c-bc35-45ee-8b84-3b9051e60ead",
   "metadata": {},
   "outputs": [
    {
     "data": {
      "text/plain": [
       "\"1983\""
      ]
     },
     "execution_count": 35,
     "metadata": {},
     "output_type": "execute_result"
    }
   ],
   "source": [
    "string(1983)"
   ]
  },
  {
   "cell_type": "code",
   "execution_count": 36,
   "id": "8e8c3ddd-b2d0-4c9f-9689-39f5c1c07e8c",
   "metadata": {},
   "outputs": [
    {
     "data": {
      "text/plain": [
       "String"
      ]
     },
     "execution_count": 36,
     "metadata": {},
     "output_type": "execute_result"
    }
   ],
   "source": [
    "typeof(string(1983))"
   ]
  },
  {
   "cell_type": "code",
   "execution_count": 37,
   "id": "524560cf-2067-4aa2-b9b5-8cfbabca36b0",
   "metadata": {},
   "outputs": [
    {
     "data": {
      "text/plain": [
       "1983"
      ]
     },
     "execution_count": 37,
     "metadata": {},
     "output_type": "execute_result"
    }
   ],
   "source": [
    "parse(Int64, \"1983\")"
   ]
  },
  {
   "cell_type": "code",
   "execution_count": 38,
   "id": "9cfbca36-5859-44ee-89fa-7e33d82fa1e4",
   "metadata": {},
   "outputs": [
    {
     "data": {
      "text/plain": [
       "Int64"
      ]
     },
     "execution_count": 38,
     "metadata": {},
     "output_type": "execute_result"
    }
   ],
   "source": [
    "typeof(parse(Int64, \"1983\"))"
   ]
  },
  {
   "cell_type": "code",
   "execution_count": 39,
   "id": "dcc012bc-3b8d-4702-a4cb-aab87d23a3a6",
   "metadata": {},
   "outputs": [
    {
     "data": {
      "text/plain": [
       "Float64"
      ]
     },
     "execution_count": 39,
     "metadata": {},
     "output_type": "execute_result"
    }
   ],
   "source": [
    "typeof(parse(Float64, \"1983\"))"
   ]
  },
  {
   "cell_type": "code",
   "execution_count": 40,
   "id": "ab9d048a-8798-49c6-9536-4f9fd32beb98",
   "metadata": {},
   "outputs": [
    {
     "data": {
      "text/plain": [
       "1983.0"
      ]
     },
     "execution_count": 40,
     "metadata": {},
     "output_type": "execute_result"
    }
   ],
   "source": [
    "parse(Float64, \"1983\")"
   ]
  },
  {
   "cell_type": "markdown",
   "id": "6417bc36-e99d-4412-b16e-6388ea94d0e1",
   "metadata": {},
   "source": [
    "Another handy function is the `tryparse` function. This will try to do what the `parse` function would ordinarily do. If it can't, it will return `nothing`."
   ]
  },
  {
   "cell_type": "code",
   "execution_count": 41,
   "id": "d4071826-6ed8-44a3-a262-91fe41e34ddb",
   "metadata": {},
   "outputs": [],
   "source": [
    "tryparse(Int64, \"A string\")"
   ]
  },
  {
   "cell_type": "markdown",
   "id": "a5c2a20f-7148-44bb-9489-83381a37eb44",
   "metadata": {},
   "source": [
    "### 3.3.4 Tuple"
   ]
  },
  {
   "cell_type": "markdown",
   "id": "7fad6dc0-dd6d-4b6d-9ac9-48f469c02738",
   "metadata": {},
   "source": [
    "Tuples are a super handy data structure in Julia. Why? Well, a lot of functions use tuples and there are a lot of functions in Julia. What makes a tuple a tuple? Well, tuples can hold multiple different types of data, they are fixed length, and are immutable. By immutable we mean that once they are defined, they can't be changed. Consider this `tuple`. "
   ]
  },
  {
   "cell_type": "code",
   "execution_count": 42,
   "id": "0aafc0c7-d0c6-45d0-812e-a6b5b622206a",
   "metadata": {},
   "outputs": [
    {
     "data": {
      "text/plain": [
       "(1, 3.14, \"string\")"
      ]
     },
     "execution_count": 42,
     "metadata": {},
     "output_type": "execute_result"
    }
   ],
   "source": [
    "my_tuple = (1, 3.14, \"string\")"
   ]
  },
  {
   "cell_type": "markdown",
   "id": "28cb1392-a3bb-4023-8d52-5e863ff9458d",
   "metadata": {},
   "source": [
    "Tuples are 1-based indexed. That is, the first element of the tuple is accessed with a 1 (similar to R) as opposed to a 0 (python). Here ya go. "
   ]
  },
  {
   "cell_type": "code",
   "execution_count": 43,
   "id": "37c7c146-eeb2-4ef2-a564-95abfc053c76",
   "metadata": {},
   "outputs": [
    {
     "data": {
      "text/plain": [
       "1"
      ]
     },
     "execution_count": 43,
     "metadata": {},
     "output_type": "execute_result"
    }
   ],
   "source": [
    "my_tuple[1]"
   ]
  },
  {
   "cell_type": "code",
   "execution_count": 44,
   "id": "9a289424-391c-4120-b454-c26f8a0bfea0",
   "metadata": {},
   "outputs": [
    {
     "data": {
      "text/plain": [
       "\"string\""
      ]
     },
     "execution_count": 44,
     "metadata": {},
     "output_type": "execute_result"
    }
   ],
   "source": [
    "my_tuple[3]"
   ]
  },
  {
   "cell_type": "code",
   "execution_count": 45,
   "id": "f3317a4b-045d-46a8-b881-7228b5a7cc1c",
   "metadata": {},
   "outputs": [
    {
     "name": "stdout",
     "output_type": "stream",
     "text": [
      "1\n",
      "3.14\n",
      "string\n"
     ]
    }
   ],
   "source": [
    "for t in my_tuple\n",
    "    println(t)\n",
    "end"
   ]
  },
  {
   "cell_type": "markdown",
   "id": "116838fc-6ad2-4bbe-bd06-d3674e161f8a",
   "metadata": {},
   "source": [
    "Recall one of the previous functions that we defined previously, `add_multiply`. This function will return the sum and product of two numbers. The `return` statement in the function is listed as `return addition, multiplication`. The `a, b` is a `tuple` as well. "
   ]
  },
  {
   "cell_type": "code",
   "execution_count": 46,
   "id": "a6591f75-d596-41e8-b6d4-628425015ef8",
   "metadata": {},
   "outputs": [
    {
     "data": {
      "text/plain": [
       "(7, 12)"
      ]
     },
     "execution_count": 46,
     "metadata": {},
     "output_type": "execute_result"
    }
   ],
   "source": [
    "add_multiply(3, 4)"
   ]
  },
  {
   "cell_type": "code",
   "execution_count": 47,
   "id": "0eccfbb1-5241-48b4-8c60-6b863d505f47",
   "metadata": {},
   "outputs": [
    {
     "data": {
      "text/plain": [
       "Tuple{Int64, Int64}"
      ]
     },
     "execution_count": 47,
     "metadata": {},
     "output_type": "execute_result"
    }
   ],
   "source": [
    "typeof(add_multiply(3, 4))"
   ]
  },
  {
   "cell_type": "code",
   "execution_count": 48,
   "id": "b65b5541-8282-4a19-8fce-8e8bbde22884",
   "metadata": {},
   "outputs": [
    {
     "data": {
      "text/plain": [
       "(7, 12)"
      ]
     },
     "execution_count": 48,
     "metadata": {},
     "output_type": "execute_result"
    }
   ],
   "source": [
    "7, 12"
   ]
  },
  {
   "cell_type": "markdown",
   "id": "e3b8104a-83ee-4156-b06d-ac52eabfc1f0",
   "metadata": {},
   "source": [
    "Anonymous functions use tuples as input. "
   ]
  },
  {
   "cell_type": "code",
   "execution_count": 49,
   "id": "0f35c4a0-93e5-4022-a4ad-7c336ca17c63",
   "metadata": {},
   "outputs": [
    {
     "data": {
      "text/plain": [
       "8"
      ]
     },
     "execution_count": 49,
     "metadata": {},
     "output_type": "execute_result"
    }
   ],
   "source": [
    "map((x, y) -> x^y, 2, 3)"
   ]
  },
  {
   "cell_type": "code",
   "execution_count": 50,
   "id": "11b269ab-5aa5-4aa7-84a7-4c12f580a5a9",
   "metadata": {},
   "outputs": [
    {
     "data": {
      "text/plain": [
       "9"
      ]
     },
     "execution_count": 50,
     "metadata": {},
     "output_type": "execute_result"
    }
   ],
   "source": [
    "map((x, y, z) -> x^y + z, 2, 3, 1)"
   ]
  },
  {
   "cell_type": "markdown",
   "id": "4cb4d7a7-508e-4607-a1c6-da8f1b7951ff",
   "metadata": {},
   "source": [
    "### 3.3.5 Named Tuple"
   ]
  },
  {
   "cell_type": "markdown",
   "id": "4df2ebd6-07fc-43ec-9f75-c464a8dc122d",
   "metadata": {},
   "source": [
    "We can also name the objects within our tuples. They are still immutable."
   ]
  },
  {
   "cell_type": "code",
   "execution_count": 51,
   "id": "4ec78347-62c7-4876-b04d-f8d2ba2dc9b7",
   "metadata": {},
   "outputs": [
    {
     "data": {
      "text/plain": [
       "(i = 1, f = 3.14, s = \"Julia\")"
      ]
     },
     "execution_count": 51,
     "metadata": {},
     "output_type": "execute_result"
    }
   ],
   "source": [
    "named_tup = (i=1, f=3.14, s=\"Julia\")"
   ]
  },
  {
   "cell_type": "code",
   "execution_count": 52,
   "id": "2573140b-511e-4629-b4b9-8ec7f1d46b8a",
   "metadata": {},
   "outputs": [
    {
     "data": {
      "text/plain": [
       "\"Julia\""
      ]
     },
     "execution_count": 52,
     "metadata": {},
     "output_type": "execute_result"
    }
   ],
   "source": [
    "named_tup.s"
   ]
  },
  {
   "cell_type": "markdown",
   "id": "13a6f137-072c-45ff-9449-0eab7bb865f7",
   "metadata": {},
   "source": [
    "One way to build tuples is to first define variables and then construct the `tuple`. For example, "
   ]
  },
  {
   "cell_type": "code",
   "execution_count": 53,
   "id": "8fba51e0-b327-4c22-b7db-67d75264f1fd",
   "metadata": {},
   "outputs": [
    {
     "data": {
      "text/plain": [
       "(i = 1, f = 3.14, s = \"Julia\")"
      ]
     },
     "execution_count": 53,
     "metadata": {},
     "output_type": "execute_result"
    }
   ],
   "source": [
    "i = 1\n",
    "f = 3.14\n",
    "s = \"Julia\"\n",
    "\n",
    "my_quick_namedtuple = (; i, f, s)"
   ]
  },
  {
   "cell_type": "markdown",
   "id": "1c5caff0-bd5d-4f05-8035-de168e89ec6d",
   "metadata": {},
   "source": [
    "### 3.3.6 Ranges"
   ]
  },
  {
   "cell_type": "markdown",
   "id": "ee90e458-50ec-4156-b021-856a508c743e",
   "metadata": {},
   "source": [
    "A simple way to create a vector to iterate over is to use a `range`. Basically, if you want to create a sequence of numbers from x to y, use the `:` operator. Here ya go. "
   ]
  },
  {
   "cell_type": "code",
   "execution_count": 54,
   "id": "5de94493-0901-4a84-8795-52a052ad943e",
   "metadata": {},
   "outputs": [
    {
     "data": {
      "text/plain": [
       "1:10"
      ]
     },
     "execution_count": 54,
     "metadata": {},
     "output_type": "execute_result"
    }
   ],
   "source": [
    "1:10"
   ]
  },
  {
   "cell_type": "markdown",
   "id": "3d60a646-e4ae-4c77-bca6-bf25361e8911",
   "metadata": {
    "tags": []
   },
   "source": [
    "To see what's in this range, we can loop over it using `for`."
   ]
  },
  {
   "cell_type": "code",
   "execution_count": 55,
   "id": "8ab3c31c-87c9-4369-aec0-e3410de0fc81",
   "metadata": {},
   "outputs": [
    {
     "data": {
      "text/plain": [
       "10-element Vector{Int64}:\n",
       "  1\n",
       "  2\n",
       "  3\n",
       "  4\n",
       "  5\n",
       "  6\n",
       "  7\n",
       "  8\n",
       "  9\n",
       " 10"
      ]
     },
     "execution_count": 55,
     "metadata": {},
     "output_type": "execute_result"
    }
   ],
   "source": [
    "[x for x in 1:10]"
   ]
  },
  {
   "cell_type": "markdown",
   "id": "893fbde2-d988-4c36-bb89-3f286c8786d4",
   "metadata": {},
   "source": [
    "Maybe a more useful or illustrative example. "
   ]
  },
  {
   "cell_type": "code",
   "execution_count": 56,
   "id": "4aaac3a1-a987-41ce-9705-00eac137214d",
   "metadata": {},
   "outputs": [
    {
     "data": {
      "text/plain": [
       "UnitRange{Int64}"
      ]
     },
     "execution_count": 56,
     "metadata": {},
     "output_type": "execute_result"
    }
   ],
   "source": [
    "typeof(15:20)"
   ]
  },
  {
   "cell_type": "code",
   "execution_count": 57,
   "id": "ee1c5560-cf77-411e-b407-a9089948f70d",
   "metadata": {},
   "outputs": [
    {
     "data": {
      "text/plain": [
       "6-element Vector{Int64}:\n",
       " 15\n",
       " 16\n",
       " 17\n",
       " 18\n",
       " 19\n",
       " 20"
      ]
     },
     "execution_count": 57,
     "metadata": {},
     "output_type": "execute_result"
    }
   ],
   "source": [
    "[x for x in 15:20]"
   ]
  },
  {
   "cell_type": "markdown",
   "id": "e9c4d673-5966-4546-8d7b-288710dfa528",
   "metadata": {},
   "source": [
    "Now, these do not have to be integers. We can create a sequence of numbers from x to y in increments of z by adding another argument (`:`) to the initial `:` call. "
   ]
  },
  {
   "cell_type": "code",
   "execution_count": 58,
   "id": "cb1be3ed-e360-4ee9-b093-f5f5e7664a62",
   "metadata": {},
   "outputs": [
    {
     "data": {
      "text/plain": [
       "0.0:0.2:1.0"
      ]
     },
     "execution_count": 58,
     "metadata": {},
     "output_type": "execute_result"
    }
   ],
   "source": [
    "0.0:0.2:1.0"
   ]
  },
  {
   "cell_type": "code",
   "execution_count": 59,
   "id": "dc67bb1b-4829-452e-a1e1-8613826f0bf5",
   "metadata": {},
   "outputs": [
    {
     "data": {
      "text/plain": [
       "StepRangeLen{Float64, Base.TwicePrecision{Float64}, Base.TwicePrecision{Float64}, Int64}"
      ]
     },
     "execution_count": 59,
     "metadata": {},
     "output_type": "execute_result"
    }
   ],
   "source": [
    "typeof(0.0:0.2:1.0)"
   ]
  },
  {
   "cell_type": "code",
   "execution_count": 60,
   "id": "80ba1b38-410e-4e43-b724-7be11e0658d2",
   "metadata": {},
   "outputs": [
    {
     "data": {
      "text/plain": [
       "6-element Vector{Float64}:\n",
       " 0.0\n",
       " 0.2\n",
       " 0.4\n",
       " 0.6\n",
       " 0.8\n",
       " 1.0"
      ]
     },
     "execution_count": 60,
     "metadata": {},
     "output_type": "execute_result"
    }
   ],
   "source": [
    "[x for x in 0.0:0.2:1.0]"
   ]
  },
  {
   "cell_type": "markdown",
   "id": "8442be86-eaca-41b0-9877-450c1e41e45f",
   "metadata": {},
   "source": [
    "Or we can realize this vector using the `collect` function. "
   ]
  },
  {
   "cell_type": "code",
   "execution_count": 61,
   "id": "ac3ffdd0-3803-493d-bce4-87408cb2b86e",
   "metadata": {},
   "outputs": [
    {
     "data": {
      "text/plain": [
       "6-element Vector{Float64}:\n",
       " 0.0\n",
       " 0.2\n",
       " 0.4\n",
       " 0.6\n",
       " 0.8\n",
       " 1.0"
      ]
     },
     "execution_count": 61,
     "metadata": {},
     "output_type": "execute_result"
    }
   ],
   "source": [
    "collect(0.0:0.2:1.0)"
   ]
  },
  {
   "cell_type": "markdown",
   "id": "9e97f316-e2d2-452b-a106-54f716825803",
   "metadata": {},
   "source": [
    "What if we add a step size that does not chop of the full range, e.g. "
   ]
  },
  {
   "cell_type": "code",
   "execution_count": 62,
   "id": "71fa34f7-28fe-4c14-bc1e-d6cd647ebdb7",
   "metadata": {},
   "outputs": [
    {
     "data": {
      "text/plain": [
       "4-element Vector{Float64}:\n",
       " 0.0\n",
       " 0.3\n",
       " 0.6\n",
       " 0.9"
      ]
     },
     "execution_count": 62,
     "metadata": {},
     "output_type": "execute_result"
    }
   ],
   "source": [
    "collect(0:.3:1)"
   ]
  },
  {
   "cell_type": "markdown",
   "id": "f6f48cbb-8365-443e-a989-27fa9d83c248",
   "metadata": {},
   "source": [
    "In other words, it does what you'd expect. "
   ]
  },
  {
   "cell_type": "markdown",
   "id": "411d0336-2d8f-450b-87e1-686b31f46ba6",
   "metadata": {},
   "source": [
    "### 3.3.7 Array"
   ]
  },
  {
   "cell_type": "markdown",
   "id": "1f4b1145-1c3c-4725-9d75-c7fbe4ffe268",
   "metadata": {},
   "source": [
    "Arrays are basically of two types: Vectors and Matrices. The generally hold objects of the same type, but it's not necessary. As mentioned in the book, they are the \"bread and butter of data\" science."
   ]
  },
  {
   "cell_type": "markdown",
   "id": "3ce1334e-6db7-45d6-bc41-f30ec3417ffc",
   "metadata": {},
   "source": [
    "#### 3.3.7.1 Array Types"
   ]
  },
  {
   "cell_type": "markdown",
   "id": "70748886-23d5-4b0c-9625-82e4e5402f7f",
   "metadata": {},
   "source": [
    "As said, there are two types: `Vector{T}` and `Matrix{T}` where `T` represents the type, e.g. `T` could be `Float64` or something. Note that `Vector{T}` is an alias to `Array{T, 1}` and `Matrix{T}` is an alias to `Array{T, 2}`. "
   ]
  },
  {
   "cell_type": "markdown",
   "id": "fb28b127-c1be-4ec1-82ba-333b86d2e77e",
   "metadata": {},
   "source": [
    "#### 3.3.7.2 Array Construction"
   ]
  },
  {
   "cell_type": "markdown",
   "id": "aa6c77c7-1934-47ec-bc17-7d9fd22e3f32",
   "metadata": {},
   "source": [
    "How do we create these things? For example, suppose we are looping through something, doing some computing, and want to store our results in either a vector or matrix. We would probably want to pre-allocate memory for this sort of exercies. You could use the low-level `Vector{}` or `Matrix{}` functions. Suppose we want to allocate memory for a vector of length 10 or a 3x4 matrix, both of which we want as `Float64`. "
   ]
  },
  {
   "cell_type": "code",
   "execution_count": 63,
   "id": "e5d090b6-c85a-4756-a8d5-136cfa30e365",
   "metadata": {},
   "outputs": [
    {
     "data": {
      "text/plain": [
       "10-element Vector{Float64}:\n",
       " 0.0\n",
       " 2.351404383e-314\n",
       " 2.378509528e-314\n",
       " 0.0\n",
       " 2.351404383e-314\n",
       " 2.351390241e-314\n",
       " 0.0\n",
       " 2.351404383e-314\n",
       " 2.3541489376e-314\n",
       " 0.0"
      ]
     },
     "execution_count": 63,
     "metadata": {},
     "output_type": "execute_result"
    }
   ],
   "source": [
    "Vector{Float64}(undef, 10)"
   ]
  },
  {
   "cell_type": "code",
   "execution_count": 64,
   "id": "a623964e-4fdc-458d-ba5e-10d3d9d80b5d",
   "metadata": {},
   "outputs": [
    {
     "data": {
      "text/plain": [
       "3×4 Matrix{Float64}:\n",
       " 5.0e-324      1.0e-323      1.5e-323      2.5e-323\n",
       " 5.0e-324      5.0e-324      5.0e-324      5.0e-324\n",
       " 2.19824e-314  2.19824e-314  2.19824e-314  5.0e-324"
      ]
     },
     "execution_count": 64,
     "metadata": {},
     "output_type": "execute_result"
    }
   ],
   "source": [
    "Matrix{Float64}(undef, 3, 4)"
   ]
  },
  {
   "cell_type": "markdown",
   "id": "7aa5af56-f257-40e0-9f94-3f1350b2b1fc",
   "metadata": {},
   "source": [
    "There are some aliases for some special vectors/matrices, e.g. the identity. Note that you can specify these things as either Int or Float. Here ya go."
   ]
  },
  {
   "cell_type": "code",
   "execution_count": 66,
   "id": "820c6842-c3c6-4153-ae4b-e8411ef134ed",
   "metadata": {},
   "outputs": [
    {
     "data": {
      "text/plain": [
       "10-element Vector{Float64}:\n",
       " 0.0\n",
       " 0.0\n",
       " 0.0\n",
       " 0.0\n",
       " 0.0\n",
       " 0.0\n",
       " 0.0\n",
       " 0.0\n",
       " 0.0\n",
       " 0.0"
      ]
     },
     "execution_count": 66,
     "metadata": {},
     "output_type": "execute_result"
    }
   ],
   "source": [
    "zeros(10)"
   ]
  },
  {
   "cell_type": "code",
   "execution_count": 69,
   "id": "a3a640b4-07c6-431b-8309-220bb4bef2b4",
   "metadata": {},
   "outputs": [
    {
     "data": {
      "text/plain": [
       "3×4 Matrix{Int64}:\n",
       " 0  0  0  0\n",
       " 0  0  0  0\n",
       " 0  0  0  0"
      ]
     },
     "execution_count": 69,
     "metadata": {},
     "output_type": "execute_result"
    }
   ],
   "source": [
    "zeros(Int64, 3, 4)"
   ]
  },
  {
   "cell_type": "code",
   "execution_count": 71,
   "id": "433d77cb-2924-43fb-873d-8b71d6c9e679",
   "metadata": {},
   "outputs": [
    {
     "data": {
      "text/plain": [
       "10-element Vector{Float64}:\n",
       " 1.0\n",
       " 1.0\n",
       " 1.0\n",
       " 1.0\n",
       " 1.0\n",
       " 1.0\n",
       " 1.0\n",
       " 1.0\n",
       " 1.0\n",
       " 1.0"
      ]
     },
     "execution_count": 71,
     "metadata": {},
     "output_type": "execute_result"
    }
   ],
   "source": [
    "ones(10)"
   ]
  },
  {
   "cell_type": "code",
   "execution_count": 72,
   "id": "36eccb98-43d0-453d-bc5b-68d7e4f843b0",
   "metadata": {},
   "outputs": [
    {
     "data": {
      "text/plain": [
       "10-element Vector{Int64}:\n",
       " 1\n",
       " 1\n",
       " 1\n",
       " 1\n",
       " 1\n",
       " 1\n",
       " 1\n",
       " 1\n",
       " 1\n",
       " 1"
      ]
     },
     "execution_count": 72,
     "metadata": {},
     "output_type": "execute_result"
    }
   ],
   "source": [
    "ones(Int64, 10)"
   ]
  },
  {
   "cell_type": "code",
   "execution_count": 73,
   "id": "2223e268-9793-4a4b-b603-c2a6e0b0a042",
   "metadata": {},
   "outputs": [
    {
     "data": {
      "text/plain": [
       "3×4 Matrix{Float64}:\n",
       " 1.0  1.0  1.0  1.0\n",
       " 1.0  1.0  1.0  1.0\n",
       " 1.0  1.0  1.0  1.0"
      ]
     },
     "execution_count": 73,
     "metadata": {},
     "output_type": "execute_result"
    }
   ],
   "source": [
    "ones(3, 4)"
   ]
  },
  {
   "cell_type": "code",
   "execution_count": 74,
   "id": "4bb9893b-e89b-4278-9447-4bcabdb578ca",
   "metadata": {},
   "outputs": [
    {
     "data": {
      "text/plain": [
       "3×4 Matrix{Int64}:\n",
       " 1  1  1  1\n",
       " 1  1  1  1\n",
       " 1  1  1  1"
      ]
     },
     "execution_count": 74,
     "metadata": {},
     "output_type": "execute_result"
    }
   ],
   "source": [
    "ones(Int64, 3, 4)"
   ]
  },
  {
   "cell_type": "markdown",
   "id": "5770e7ca-e9bb-4667-b46e-e2fc48bc9a10",
   "metadata": {},
   "source": [
    "If you pre-allocate memory and then want to add to a vector/matrix, you can use the `fill()` with a bang. "
   ]
  },
  {
   "cell_type": "code",
   "execution_count": 75,
   "id": "42174ba2-9c47-459b-8537-6d4d72491946",
   "metadata": {},
   "outputs": [
    {
     "data": {
      "text/plain": [
       "2×2 Matrix{Float64}:\n",
       " 3.14  3.14\n",
       " 3.14  3.14"
      ]
     },
     "execution_count": 75,
     "metadata": {},
     "output_type": "execute_result"
    }
   ],
   "source": [
    "my_matrix = Matrix{Float64}(undef, 2, 2)\n",
    "fill!(my_matrix, 3.14)"
   ]
  },
  {
   "cell_type": "code",
   "execution_count": 76,
   "id": "245f19be-5502-4e14-a60a-c9e82f9ad31e",
   "metadata": {},
   "outputs": [
    {
     "data": {
      "text/plain": [
       "2×2 Matrix{Int64}:\n",
       " 1  2\n",
       " 3  4"
      ]
     },
     "execution_count": 76,
     "metadata": {},
     "output_type": "execute_result"
    }
   ],
   "source": [
    "[[1 2]\n",
    " [3 4]]"
   ]
  },
  {
   "cell_type": "code",
   "execution_count": 77,
   "id": "71ce3cb6-8ae7-444a-a3f5-168c37d8f5f8",
   "metadata": {},
   "outputs": [
    {
     "ename": "LoadError",
     "evalue": "MethodError: no method matching typed_hcat(::Matrix{Int64}, ::Int64, ::Int64)\n\u001b[0mClosest candidates are:\n\u001b[0m  typed_hcat(\u001b[91m::Type{T}\u001b[39m, ::Number...) where T at abstractarray.jl:1561\n\u001b[0m  typed_hcat(\u001b[91m::Type{T}\u001b[39m, ::Union{Number, LinearAlgebra.Adjoint{T, <:AbstractVector} where T}...) where T at /Applications/Julia-1.8.app/Contents/Resources/julia/share/julia/stdlib/v1.8/LinearAlgebra/src/adjtrans.jl:229\n\u001b[0m  typed_hcat(\u001b[91m::Type{T}\u001b[39m, ::Union{Number, LinearAlgebra.Transpose{T, <:AbstractVector} where T}...) where T at /Applications/Julia-1.8.app/Contents/Resources/julia/share/julia/stdlib/v1.8/LinearAlgebra/src/adjtrans.jl:230\n\u001b[0m  ...",
     "output_type": "error",
     "traceback": [
      "MethodError: no method matching typed_hcat(::Matrix{Int64}, ::Int64, ::Int64)\n\u001b[0mClosest candidates are:\n\u001b[0m  typed_hcat(\u001b[91m::Type{T}\u001b[39m, ::Number...) where T at abstractarray.jl:1561\n\u001b[0m  typed_hcat(\u001b[91m::Type{T}\u001b[39m, ::Union{Number, LinearAlgebra.Adjoint{T, <:AbstractVector} where T}...) where T at /Applications/Julia-1.8.app/Contents/Resources/julia/share/julia/stdlib/v1.8/LinearAlgebra/src/adjtrans.jl:229\n\u001b[0m  typed_hcat(\u001b[91m::Type{T}\u001b[39m, ::Union{Number, LinearAlgebra.Transpose{T, <:AbstractVector} where T}...) where T at /Applications/Julia-1.8.app/Contents/Resources/julia/share/julia/stdlib/v1.8/LinearAlgebra/src/adjtrans.jl:230\n\u001b[0m  ...",
      "",
      "Stacktrace:",
      " [1] top-level scope",
      "   @ In[77]:1"
     ]
    }
   ],
   "source": [
    "[[1 2][3 4]]"
   ]
  },
  {
   "cell_type": "code",
   "execution_count": 78,
   "id": "25280b62-c3b6-4279-b72d-72252a4b2b25",
   "metadata": {},
   "outputs": [
    {
     "data": {
      "text/plain": [
       "2×2 Matrix{Float64}:\n",
       " 1.0  2.0\n",
       " 3.0  4.0"
      ]
     },
     "execution_count": 78,
     "metadata": {},
     "output_type": "execute_result"
    }
   ],
   "source": [
    "Float64[[1 2]\n",
    "        [3 4]]"
   ]
  },
  {
   "cell_type": "code",
   "execution_count": 81,
   "id": "e6f8bd67-d844-4e07-bb19-2b1833b052f6",
   "metadata": {},
   "outputs": [
    {
     "data": {
      "text/plain": [
       "2×2 Matrix{Float64}:\n",
       " 1.0  2.0\n",
       " 3.0  4.0"
      ]
     },
     "execution_count": 81,
     "metadata": {},
     "output_type": "execute_result"
    }
   ],
   "source": [
    "Float64[[1 2]\n",
    "    [3 4]]"
   ]
  },
  {
   "cell_type": "code",
   "execution_count": null,
   "id": "df83887f-e035-46f2-8366-d8c1e7eaba6d",
   "metadata": {},
   "outputs": [],
   "source": []
  }
 ],
 "metadata": {
  "kernelspec": {
   "display_name": "Julia 1.8.4",
   "language": "julia",
   "name": "julia-1.8"
  },
  "language_info": {
   "file_extension": ".jl",
   "mimetype": "application/julia",
   "name": "julia",
   "version": "1.8.4"
  }
 },
 "nbformat": 4,
 "nbformat_minor": 5
}
