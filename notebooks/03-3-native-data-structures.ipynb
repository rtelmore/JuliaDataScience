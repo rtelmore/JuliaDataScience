{
 "cells": [
  {
   "cell_type": "markdown",
   "id": "92da8734-9249-47be-a0f1-65f0d3cbdc1a",
   "metadata": {},
   "source": [
    "#  Chapter Three: Basics\n",
    "## 3.3: Native Data Structures"
   ]
  },
  {
   "cell_type": "markdown",
   "id": "0c2935f4-57fe-4899-8186-2f33a6e2ea47",
   "metadata": {},
   "source": [
    "This section is long and deserves its own notebook. And it's important -- it's about data. [Take that for data!](https://www.youtube.com/watch?v=dfuVdja6lDU) "
   ]
  },
  {
   "cell_type": "code",
   "execution_count": 1,
   "id": "52bc5411-64c0-425c-b3df-1e102f604ce1",
   "metadata": {},
   "outputs": [
    {
     "name": "stderr",
     "output_type": "stream",
     "text": [
      "\u001b[32m\u001b[1m  Activating\u001b[22m\u001b[39m project at `~/research/JuliaDataScience/notebooks/juliadatascience`\n"
     ]
    }
   ],
   "source": [
    "using Pkg\n",
    "Pkg.activate(\"juliadatascience\")"
   ]
  },
  {
   "cell_type": "markdown",
   "id": "45ac955c-3603-492a-8d6e-474eda244cde",
   "metadata": {},
   "source": [
    "Computing languages have many different data structures, e.g. strings, lists, etc. Julia is no different. The specific data structures that we'll look at in this notebook are `String`, `Tuple`, `NamedTuple`, `UnitRange`, `Arrays`, `Pair`, `Dict`, `Symbol`. Some of these types might look familiar and some may not. Don't worry, Ryan, we'll figure it out. As I mentioend previously [(in Chapter Three notebook)](https://github.com/rtelmore/JuliaDataScience/blob/main/notebooks/03-julia-basics.ipynb), the `methodswith` function is super handy. Check out the first five methods that operate on `String`."
   ]
  },
  {
   "cell_type": "code",
   "execution_count": 2,
   "id": "b5e084d8-cc70-4e5e-84f3-57118f11b309",
   "metadata": {},
   "outputs": [
    {
     "data": {
      "text/html": [
       "5-element Vector{Method}:<ul><li> String(s::<b>String</b>) in Core at <a href=\"file:///Applications/Julia-1.8.app/Contents/Resources/julia/share/julia/base/boot.jl\" target=\"_blank\">boot.jl:358</a><li> Symbol(s::<b>String</b>) in Core at <a href=\"file:///Applications/Julia-1.8.app/Contents/Resources/julia/share/julia/base/boot.jl\" target=\"_blank\">boot.jl:489</a><li> ==(a::<b>String</b>, b::<b>String</b>) in Base at <a href=\"https://github.com/JuliaLang/julia/tree/00177ebc4fcadaaa37c4c2cbca2f9db75ba4d8e3/base/strings/string.jl#L122\" target=\"_blank\">strings/string.jl:122</a><li> ==(a::<b>Union{SubString{String}, String}</b>, b::<b>Union{SubString{String}, String}</b>) in Base at <a href=\"https://github.com/JuliaLang/julia/tree/00177ebc4fcadaaa37c4c2cbca2f9db75ba4d8e3/base/strings/substring.jl#L107\" target=\"_blank\">strings/substring.jl:107</a><li> CanonicalIndexError(func::<b>String</b>, type) in Base at <a href=\"https://github.com/JuliaLang/julia/tree/00177ebc4fcadaaa37c4c2cbca2f9db75ba4d8e3/base/abstractarray.jl#L1255\" target=\"_blank\">abstractarray.jl:1255</a></ul>"
      ],
      "text/plain": [
       "[1] String(s::String) in Core at boot.jl:358\n",
       "[2] Symbol(s::String) in Core at boot.jl:489\n",
       "[3] ==(a::String, b::String) in Base at strings/string.jl:122\n",
       "[4] ==(a::Union{SubString{String}, String}, b::Union{SubString{String}, String}) in Base at strings/substring.jl:107\n",
       "[5] CanonicalIndexError(func::String, type) in Base at abstractarray.jl:1255"
      ]
     },
     "execution_count": 2,
     "metadata": {},
     "output_type": "execute_result"
    }
   ],
   "source": [
    "first(methodswith(String), 5)"
   ]
  },
  {
   "cell_type": "markdown",
   "id": "eae30746-b6aa-495b-ab45-0c0ed54a0cc0",
   "metadata": {},
   "source": [
    "### 3.3.1: Broadcasting Operators and Functions"
   ]
  },
  {
   "cell_type": "markdown",
   "id": "250ba421-ad5f-4c10-b9cc-7d66faef23e6",
   "metadata": {},
   "source": [
    "If you are familiar with R, you'll know that vectorization is an important concent for speeding up your code. The same is here in Julia, but it's called **broadcasting**. Vectorization is achieved in Julia using the dot operator (`.`). Look at a vectorized addition on a vector using `.+`. And what happens is we just try adding one to the vector."
   ]
  },
  {
   "cell_type": "code",
   "execution_count": 7,
   "id": "06ed0f6b-1b03-45c1-94c1-38ffb269e0f3",
   "metadata": {},
   "outputs": [
    {
     "data": {
      "text/plain": [
       "3-element Vector{Int64}:\n",
       " 2\n",
       " 3\n",
       " 6"
      ]
     },
     "execution_count": 7,
     "metadata": {},
     "output_type": "execute_result"
    }
   ],
   "source": [
    "[1, 2, 5] .+ 1"
   ]
  },
  {
   "cell_type": "code",
   "execution_count": 8,
   "id": "72b763fb-9895-4ce2-939f-44eeee6175ca",
   "metadata": {},
   "outputs": [
    {
     "ename": "LoadError",
     "evalue": "MethodError: no method matching +(::Vector{Int64}, ::Int64)\nFor element-wise addition, use broadcasting with dot syntax: array .+ scalar\n\u001b[0mClosest candidates are:\n\u001b[0m  +(::Any, ::Any, \u001b[91m::Any\u001b[39m, \u001b[91m::Any...\u001b[39m) at operators.jl:591\n\u001b[0m  +(\u001b[91m::T\u001b[39m, ::T) where T<:Union{Int128, Int16, Int32, Int64, Int8, UInt128, UInt16, UInt32, UInt64, UInt8} at int.jl:87\n\u001b[0m  +(\u001b[91m::Base.TwicePrecision\u001b[39m, ::Number) at twiceprecision.jl:290\n\u001b[0m  ...",
     "output_type": "error",
     "traceback": [
      "MethodError: no method matching +(::Vector{Int64}, ::Int64)\nFor element-wise addition, use broadcasting with dot syntax: array .+ scalar\n\u001b[0mClosest candidates are:\n\u001b[0m  +(::Any, ::Any, \u001b[91m::Any\u001b[39m, \u001b[91m::Any...\u001b[39m) at operators.jl:591\n\u001b[0m  +(\u001b[91m::T\u001b[39m, ::T) where T<:Union{Int128, Int16, Int32, Int64, Int8, UInt128, UInt16, UInt32, UInt64, UInt8} at int.jl:87\n\u001b[0m  +(\u001b[91m::Base.TwicePrecision\u001b[39m, ::Number) at twiceprecision.jl:290\n\u001b[0m  ...",
      "",
      "Stacktrace:",
      " [1] top-level scope",
      "   @ In[8]:1"
     ]
    }
   ],
   "source": [
    "[1, 2, 5] + 1"
   ]
  },
  {
   "cell_type": "markdown",
   "id": "c016faac-18f8-4825-b728-51e577e6503d",
   "metadata": {},
   "source": [
    "D'oh, we get an error. "
   ]
  },
  {
   "cell_type": "markdown",
   "id": "624aaf1b-24dc-45ff-af2e-7838bb108044",
   "metadata": {},
   "source": [
    "We can use these vectorization operations on our own functions as well. Consider the `logarithm` function that we used in the first part of this tutorial. You can load it in by calling the `include` function on a file I added to the repo, `03-functions.jl`. Note that I will add the functions from each chapter into their own `chapternumber-functions.jl` file. "
   ]
  },
  {
   "cell_type": "code",
   "execution_count": 9,
   "id": "d7b1e485-abf7-4f39-b072-0271f7e546f7",
   "metadata": {},
   "outputs": [
    {
     "data": {
      "text/plain": [
       "logarithm (generic function with 1 method)"
      ]
     },
     "execution_count": 9,
     "metadata": {},
     "output_type": "execute_result"
    }
   ],
   "source": [
    "include(\"03-functions.jl\")"
   ]
  },
  {
   "cell_type": "code",
   "execution_count": 10,
   "id": "38632333-8025-48a9-b974-bb7dc6607be0",
   "metadata": {},
   "outputs": [
    {
     "data": {
      "text/plain": [
       "3-element Vector{Float64}:\n",
       " 0.0\n",
       " 0.6931471805599569\n",
       " 1.0986122886681282"
      ]
     },
     "execution_count": 10,
     "metadata": {},
     "output_type": "execute_result"
    }
   ],
   "source": [
    "logarithm.([1, 2, 3])"
   ]
  },
  {
   "cell_type": "markdown",
   "id": "0004d244-04c7-4d03-8b62-60ae4dd04fa9",
   "metadata": {},
   "source": [
    "### 3.3.2: Functions with a bang !"
   ]
  },
  {
   "cell_type": "code",
   "execution_count": null,
   "id": "6756fff5-1d87-4c05-a2cb-d1b25462d7d6",
   "metadata": {},
   "outputs": [],
   "source": []
  }
 ],
 "metadata": {
  "kernelspec": {
   "display_name": "Julia 1.8.4",
   "language": "julia",
   "name": "julia-1.8"
  },
  "language_info": {
   "file_extension": ".jl",
   "mimetype": "application/julia",
   "name": "julia",
   "version": "1.8.4"
  }
 },
 "nbformat": 4,
 "nbformat_minor": 5
}
