{
 "cells": [
  {
   "cell_type": "markdown",
   "id": "92da8734-9249-47be-a0f1-65f0d3cbdc1a",
   "metadata": {},
   "source": [
    "#  Chapter Three: Basics\n",
    "## 3.3: Native Data Structures"
   ]
  },
  {
   "cell_type": "markdown",
   "id": "0c2935f4-57fe-4899-8186-2f33a6e2ea47",
   "metadata": {},
   "source": [
    "This section is long and deserves its own notebook. And it's important -- it's about data. Take that for data! "
   ]
  },
  {
   "cell_type": "code",
   "execution_count": null,
   "id": "52bc5411-64c0-425c-b3df-1e102f604ce1",
   "metadata": {},
   "outputs": [],
   "source": [
    "using Pkg\n",
    "Pkg.activate(\"juliadatascience\")"
   ]
  }
 ],
 "metadata": {
  "kernelspec": {
   "display_name": "Julia 1.8.4",
   "language": "julia",
   "name": "julia-1.8"
  },
  "language_info": {
   "file_extension": ".jl",
   "mimetype": "application/julia",
   "name": "julia",
   "version": "1.8.4"
  }
 },
 "nbformat": 4,
 "nbformat_minor": 5
}
